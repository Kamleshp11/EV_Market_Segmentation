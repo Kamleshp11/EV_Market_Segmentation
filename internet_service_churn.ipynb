{
 "cells": [
  {
   "cell_type": "code",
   "execution_count": 1,
   "id": "8ade207c",
   "metadata": {},
   "outputs": [
    {
     "name": "stdout",
     "output_type": "stream",
     "text": [
      "Requirement already satisfied: imbalanced-learn in c:\\users\\kamlesh prajapat\\anaconda3\\lib\\site-packages (0.11.0)\n",
      "Requirement already satisfied: threadpoolctl>=2.0.0 in c:\\users\\kamlesh prajapat\\anaconda3\\lib\\site-packages (from imbalanced-learn) (2.2.0)\n",
      "Requirement already satisfied: joblib>=1.1.1 in c:\\users\\kamlesh prajapat\\anaconda3\\lib\\site-packages (from imbalanced-learn) (1.3.1)\n",
      "Requirement already satisfied: numpy>=1.17.3 in c:\\users\\kamlesh prajapat\\anaconda3\\lib\\site-packages (from imbalanced-learn) (1.21.5)\n",
      "Requirement already satisfied: scipy>=1.5.0 in c:\\users\\kamlesh prajapat\\anaconda3\\lib\\site-packages (from imbalanced-learn) (1.9.1)\n",
      "Requirement already satisfied: scikit-learn>=1.0.2 in c:\\users\\kamlesh prajapat\\anaconda3\\lib\\site-packages (from imbalanced-learn) (1.0.2)\n"
     ]
    }
   ],
   "source": [
    "import numpy as np\n",
    "import pandas as pd\n",
    "import seaborn as sns\n",
    "import matplotlib.pyplot as plt \n",
    "from sklearn.model_selection import train_test_split\n",
    "from sklearn import preprocessing\n",
    "from sklearn.preprocessing import StandardScaler\n",
    "from sklearn import tree\n",
    "from sklearn.tree import DecisionTreeClassifier\n",
    "from sklearn.ensemble import RandomForestClassifier\n",
    "from sklearn.linear_model import LogisticRegression\n",
    "from sklearn.svm import SVC\n",
    "from sklearn.metrics import accuracy_score\n",
    "from sklearn.metrics import confusion_matrix\n",
    "from sklearn.metrics import precision_score, recall_score, f1_score\n",
    "! pip install imbalanced-learn\n",
    "from sklearn.impute import KNNImputer\n",
    "from imblearn.over_sampling import SMOTE\n",
    "import warnings\n",
    "warnings.filterwarnings(\"ignore\")\n",
    "%matplotlib inline "
   ]
  },
  {
   "cell_type": "code",
   "execution_count": 429,
   "id": "23b2d059",
   "metadata": {},
   "outputs": [
    {
     "data": {
      "text/html": [
       "<div>\n",
       "<style scoped>\n",
       "    .dataframe tbody tr th:only-of-type {\n",
       "        vertical-align: middle;\n",
       "    }\n",
       "\n",
       "    .dataframe tbody tr th {\n",
       "        vertical-align: top;\n",
       "    }\n",
       "\n",
       "    .dataframe thead th {\n",
       "        text-align: right;\n",
       "    }\n",
       "</style>\n",
       "<table border=\"1\" class=\"dataframe\">\n",
       "  <thead>\n",
       "    <tr style=\"text-align: right;\">\n",
       "      <th></th>\n",
       "      <th>id</th>\n",
       "      <th>is_tv_subscriber</th>\n",
       "      <th>is_movie_package_subscriber</th>\n",
       "      <th>subscription_age</th>\n",
       "      <th>bill_avg</th>\n",
       "      <th>reamining_contract</th>\n",
       "      <th>service_failure_count</th>\n",
       "      <th>download_avg</th>\n",
       "      <th>upload_avg</th>\n",
       "      <th>download_over_limit</th>\n",
       "      <th>churn</th>\n",
       "    </tr>\n",
       "  </thead>\n",
       "  <tbody>\n",
       "    <tr>\n",
       "      <th>0</th>\n",
       "      <td>15</td>\n",
       "      <td>1</td>\n",
       "      <td>0</td>\n",
       "      <td>11.95</td>\n",
       "      <td>25</td>\n",
       "      <td>0.14</td>\n",
       "      <td>0</td>\n",
       "      <td>8.4</td>\n",
       "      <td>2.3</td>\n",
       "      <td>0</td>\n",
       "      <td>0</td>\n",
       "    </tr>\n",
       "    <tr>\n",
       "      <th>1</th>\n",
       "      <td>18</td>\n",
       "      <td>0</td>\n",
       "      <td>0</td>\n",
       "      <td>8.22</td>\n",
       "      <td>0</td>\n",
       "      <td>NaN</td>\n",
       "      <td>0</td>\n",
       "      <td>0.0</td>\n",
       "      <td>0.0</td>\n",
       "      <td>0</td>\n",
       "      <td>1</td>\n",
       "    </tr>\n",
       "    <tr>\n",
       "      <th>2</th>\n",
       "      <td>23</td>\n",
       "      <td>1</td>\n",
       "      <td>0</td>\n",
       "      <td>8.91</td>\n",
       "      <td>16</td>\n",
       "      <td>0.00</td>\n",
       "      <td>0</td>\n",
       "      <td>13.7</td>\n",
       "      <td>0.9</td>\n",
       "      <td>0</td>\n",
       "      <td>1</td>\n",
       "    </tr>\n",
       "    <tr>\n",
       "      <th>3</th>\n",
       "      <td>27</td>\n",
       "      <td>0</td>\n",
       "      <td>0</td>\n",
       "      <td>6.87</td>\n",
       "      <td>21</td>\n",
       "      <td>NaN</td>\n",
       "      <td>1</td>\n",
       "      <td>0.0</td>\n",
       "      <td>0.0</td>\n",
       "      <td>0</td>\n",
       "      <td>1</td>\n",
       "    </tr>\n",
       "    <tr>\n",
       "      <th>4</th>\n",
       "      <td>34</td>\n",
       "      <td>0</td>\n",
       "      <td>0</td>\n",
       "      <td>6.39</td>\n",
       "      <td>0</td>\n",
       "      <td>NaN</td>\n",
       "      <td>0</td>\n",
       "      <td>0.0</td>\n",
       "      <td>0.0</td>\n",
       "      <td>0</td>\n",
       "      <td>1</td>\n",
       "    </tr>\n",
       "    <tr>\n",
       "      <th>...</th>\n",
       "      <td>...</td>\n",
       "      <td>...</td>\n",
       "      <td>...</td>\n",
       "      <td>...</td>\n",
       "      <td>...</td>\n",
       "      <td>...</td>\n",
       "      <td>...</td>\n",
       "      <td>...</td>\n",
       "      <td>...</td>\n",
       "      <td>...</td>\n",
       "      <td>...</td>\n",
       "    </tr>\n",
       "    <tr>\n",
       "      <th>72269</th>\n",
       "      <td>1689648</td>\n",
       "      <td>1</td>\n",
       "      <td>1</td>\n",
       "      <td>0.09</td>\n",
       "      <td>0</td>\n",
       "      <td>1.25</td>\n",
       "      <td>0</td>\n",
       "      <td>0.0</td>\n",
       "      <td>0.0</td>\n",
       "      <td>0</td>\n",
       "      <td>1</td>\n",
       "    </tr>\n",
       "    <tr>\n",
       "      <th>72270</th>\n",
       "      <td>1689676</td>\n",
       "      <td>1</td>\n",
       "      <td>0</td>\n",
       "      <td>0.06</td>\n",
       "      <td>1</td>\n",
       "      <td>1.63</td>\n",
       "      <td>0</td>\n",
       "      <td>0.8</td>\n",
       "      <td>0.0</td>\n",
       "      <td>0</td>\n",
       "      <td>1</td>\n",
       "    </tr>\n",
       "    <tr>\n",
       "      <th>72271</th>\n",
       "      <td>1689679</td>\n",
       "      <td>1</td>\n",
       "      <td>0</td>\n",
       "      <td>0.02</td>\n",
       "      <td>0</td>\n",
       "      <td>2.19</td>\n",
       "      <td>0</td>\n",
       "      <td>1.5</td>\n",
       "      <td>0.2</td>\n",
       "      <td>0</td>\n",
       "      <td>1</td>\n",
       "    </tr>\n",
       "    <tr>\n",
       "      <th>72272</th>\n",
       "      <td>1689733</td>\n",
       "      <td>0</td>\n",
       "      <td>0</td>\n",
       "      <td>0.01</td>\n",
       "      <td>0</td>\n",
       "      <td>0.72</td>\n",
       "      <td>0</td>\n",
       "      <td>0.0</td>\n",
       "      <td>0.0</td>\n",
       "      <td>0</td>\n",
       "      <td>1</td>\n",
       "    </tr>\n",
       "    <tr>\n",
       "      <th>72273</th>\n",
       "      <td>1689744</td>\n",
       "      <td>1</td>\n",
       "      <td>1</td>\n",
       "      <td>0.01</td>\n",
       "      <td>0</td>\n",
       "      <td>0.82</td>\n",
       "      <td>0</td>\n",
       "      <td>0.0</td>\n",
       "      <td>0.0</td>\n",
       "      <td>0</td>\n",
       "      <td>1</td>\n",
       "    </tr>\n",
       "  </tbody>\n",
       "</table>\n",
       "<p>72274 rows × 11 columns</p>\n",
       "</div>"
      ],
      "text/plain": [
       "            id  is_tv_subscriber  is_movie_package_subscriber  \\\n",
       "0           15                 1                            0   \n",
       "1           18                 0                            0   \n",
       "2           23                 1                            0   \n",
       "3           27                 0                            0   \n",
       "4           34                 0                            0   \n",
       "...        ...               ...                          ...   \n",
       "72269  1689648                 1                            1   \n",
       "72270  1689676                 1                            0   \n",
       "72271  1689679                 1                            0   \n",
       "72272  1689733                 0                            0   \n",
       "72273  1689744                 1                            1   \n",
       "\n",
       "       subscription_age  bill_avg  reamining_contract  service_failure_count  \\\n",
       "0                 11.95        25                0.14                      0   \n",
       "1                  8.22         0                 NaN                      0   \n",
       "2                  8.91        16                0.00                      0   \n",
       "3                  6.87        21                 NaN                      1   \n",
       "4                  6.39         0                 NaN                      0   \n",
       "...                 ...       ...                 ...                    ...   \n",
       "72269              0.09         0                1.25                      0   \n",
       "72270              0.06         1                1.63                      0   \n",
       "72271              0.02         0                2.19                      0   \n",
       "72272              0.01         0                0.72                      0   \n",
       "72273              0.01         0                0.82                      0   \n",
       "\n",
       "       download_avg  upload_avg  download_over_limit  churn  \n",
       "0               8.4         2.3                    0      0  \n",
       "1               0.0         0.0                    0      1  \n",
       "2              13.7         0.9                    0      1  \n",
       "3               0.0         0.0                    0      1  \n",
       "4               0.0         0.0                    0      1  \n",
       "...             ...         ...                  ...    ...  \n",
       "72269           0.0         0.0                    0      1  \n",
       "72270           0.8         0.0                    0      1  \n",
       "72271           1.5         0.2                    0      1  \n",
       "72272           0.0         0.0                    0      1  \n",
       "72273           0.0         0.0                    0      1  \n",
       "\n",
       "[72274 rows x 11 columns]"
      ]
     },
     "execution_count": 429,
     "metadata": {},
     "output_type": "execute_result"
    }
   ],
   "source": [
    "data = pd.read_csv(\"C:\\\\Users\\\\kamlesh prajapat\\\\OneDrive\\\\Desktop\\\\Books\\\\Internship\\\\internet_service_churn.csv\")\n",
    "data"
   ]
  },
  {
   "cell_type": "code",
   "execution_count": 3,
   "id": "4d13bf56",
   "metadata": {},
   "outputs": [
    {
     "data": {
      "text/plain": [
       "(72274, 11)"
      ]
     },
     "execution_count": 3,
     "metadata": {},
     "output_type": "execute_result"
    }
   ],
   "source": [
    "data.shape"
   ]
  },
  {
   "cell_type": "code",
   "execution_count": 4,
   "id": "7f042405",
   "metadata": {},
   "outputs": [
    {
     "data": {
      "text/plain": [
       "id                               int64\n",
       "is_tv_subscriber                 int64\n",
       "is_movie_package_subscriber      int64\n",
       "subscription_age               float64\n",
       "bill_avg                         int64\n",
       "reamining_contract             float64\n",
       "service_failure_count            int64\n",
       "download_avg                   float64\n",
       "upload_avg                     float64\n",
       "download_over_limit              int64\n",
       "churn                            int64\n",
       "dtype: object"
      ]
     },
     "execution_count": 4,
     "metadata": {},
     "output_type": "execute_result"
    }
   ],
   "source": [
    "data.dtypes"
   ]
  },
  {
   "cell_type": "code",
   "execution_count": 5,
   "id": "08394e80",
   "metadata": {},
   "outputs": [
    {
     "data": {
      "text/html": [
       "<div>\n",
       "<style scoped>\n",
       "    .dataframe tbody tr th:only-of-type {\n",
       "        vertical-align: middle;\n",
       "    }\n",
       "\n",
       "    .dataframe tbody tr th {\n",
       "        vertical-align: top;\n",
       "    }\n",
       "\n",
       "    .dataframe thead th {\n",
       "        text-align: right;\n",
       "    }\n",
       "</style>\n",
       "<table border=\"1\" class=\"dataframe\">\n",
       "  <thead>\n",
       "    <tr style=\"text-align: right;\">\n",
       "      <th></th>\n",
       "      <th>id</th>\n",
       "      <th>is_tv_subscriber</th>\n",
       "      <th>is_movie_package_subscriber</th>\n",
       "      <th>subscription_age</th>\n",
       "      <th>bill_avg</th>\n",
       "      <th>reamining_contract</th>\n",
       "      <th>service_failure_count</th>\n",
       "      <th>download_avg</th>\n",
       "      <th>upload_avg</th>\n",
       "      <th>download_over_limit</th>\n",
       "      <th>churn</th>\n",
       "    </tr>\n",
       "  </thead>\n",
       "  <tbody>\n",
       "    <tr>\n",
       "      <th>count</th>\n",
       "      <td>7.227400e+04</td>\n",
       "      <td>72274.000000</td>\n",
       "      <td>72274.000000</td>\n",
       "      <td>72274.000000</td>\n",
       "      <td>72274.000000</td>\n",
       "      <td>50702.000000</td>\n",
       "      <td>72274.000000</td>\n",
       "      <td>71893.000000</td>\n",
       "      <td>71893.000000</td>\n",
       "      <td>72274.000000</td>\n",
       "      <td>72274.000000</td>\n",
       "    </tr>\n",
       "    <tr>\n",
       "      <th>mean</th>\n",
       "      <td>8.463182e+05</td>\n",
       "      <td>0.815259</td>\n",
       "      <td>0.334629</td>\n",
       "      <td>2.450051</td>\n",
       "      <td>18.942483</td>\n",
       "      <td>0.716039</td>\n",
       "      <td>0.274234</td>\n",
       "      <td>43.689911</td>\n",
       "      <td>4.192076</td>\n",
       "      <td>0.207613</td>\n",
       "      <td>0.554141</td>\n",
       "    </tr>\n",
       "    <tr>\n",
       "      <th>std</th>\n",
       "      <td>4.891022e+05</td>\n",
       "      <td>0.388090</td>\n",
       "      <td>0.471864</td>\n",
       "      <td>2.034990</td>\n",
       "      <td>13.215386</td>\n",
       "      <td>0.697102</td>\n",
       "      <td>0.816621</td>\n",
       "      <td>63.405963</td>\n",
       "      <td>9.818896</td>\n",
       "      <td>0.997123</td>\n",
       "      <td>0.497064</td>\n",
       "    </tr>\n",
       "    <tr>\n",
       "      <th>min</th>\n",
       "      <td>1.500000e+01</td>\n",
       "      <td>0.000000</td>\n",
       "      <td>0.000000</td>\n",
       "      <td>-0.020000</td>\n",
       "      <td>0.000000</td>\n",
       "      <td>0.000000</td>\n",
       "      <td>0.000000</td>\n",
       "      <td>0.000000</td>\n",
       "      <td>0.000000</td>\n",
       "      <td>0.000000</td>\n",
       "      <td>0.000000</td>\n",
       "    </tr>\n",
       "    <tr>\n",
       "      <th>25%</th>\n",
       "      <td>4.222165e+05</td>\n",
       "      <td>1.000000</td>\n",
       "      <td>0.000000</td>\n",
       "      <td>0.930000</td>\n",
       "      <td>13.000000</td>\n",
       "      <td>0.000000</td>\n",
       "      <td>0.000000</td>\n",
       "      <td>6.700000</td>\n",
       "      <td>0.500000</td>\n",
       "      <td>0.000000</td>\n",
       "      <td>0.000000</td>\n",
       "    </tr>\n",
       "    <tr>\n",
       "      <th>50%</th>\n",
       "      <td>8.477840e+05</td>\n",
       "      <td>1.000000</td>\n",
       "      <td>0.000000</td>\n",
       "      <td>1.980000</td>\n",
       "      <td>19.000000</td>\n",
       "      <td>0.570000</td>\n",
       "      <td>0.000000</td>\n",
       "      <td>27.800000</td>\n",
       "      <td>2.100000</td>\n",
       "      <td>0.000000</td>\n",
       "      <td>1.000000</td>\n",
       "    </tr>\n",
       "    <tr>\n",
       "      <th>75%</th>\n",
       "      <td>1.269562e+06</td>\n",
       "      <td>1.000000</td>\n",
       "      <td>1.000000</td>\n",
       "      <td>3.300000</td>\n",
       "      <td>22.000000</td>\n",
       "      <td>1.310000</td>\n",
       "      <td>0.000000</td>\n",
       "      <td>60.500000</td>\n",
       "      <td>4.800000</td>\n",
       "      <td>0.000000</td>\n",
       "      <td>1.000000</td>\n",
       "    </tr>\n",
       "    <tr>\n",
       "      <th>max</th>\n",
       "      <td>1.689744e+06</td>\n",
       "      <td>1.000000</td>\n",
       "      <td>1.000000</td>\n",
       "      <td>12.800000</td>\n",
       "      <td>406.000000</td>\n",
       "      <td>2.920000</td>\n",
       "      <td>19.000000</td>\n",
       "      <td>4415.200000</td>\n",
       "      <td>453.300000</td>\n",
       "      <td>7.000000</td>\n",
       "      <td>1.000000</td>\n",
       "    </tr>\n",
       "  </tbody>\n",
       "</table>\n",
       "</div>"
      ],
      "text/plain": [
       "                 id  is_tv_subscriber  is_movie_package_subscriber  \\\n",
       "count  7.227400e+04      72274.000000                 72274.000000   \n",
       "mean   8.463182e+05          0.815259                     0.334629   \n",
       "std    4.891022e+05          0.388090                     0.471864   \n",
       "min    1.500000e+01          0.000000                     0.000000   \n",
       "25%    4.222165e+05          1.000000                     0.000000   \n",
       "50%    8.477840e+05          1.000000                     0.000000   \n",
       "75%    1.269562e+06          1.000000                     1.000000   \n",
       "max    1.689744e+06          1.000000                     1.000000   \n",
       "\n",
       "       subscription_age      bill_avg  reamining_contract  \\\n",
       "count      72274.000000  72274.000000        50702.000000   \n",
       "mean           2.450051     18.942483            0.716039   \n",
       "std            2.034990     13.215386            0.697102   \n",
       "min           -0.020000      0.000000            0.000000   \n",
       "25%            0.930000     13.000000            0.000000   \n",
       "50%            1.980000     19.000000            0.570000   \n",
       "75%            3.300000     22.000000            1.310000   \n",
       "max           12.800000    406.000000            2.920000   \n",
       "\n",
       "       service_failure_count  download_avg    upload_avg  download_over_limit  \\\n",
       "count           72274.000000  71893.000000  71893.000000         72274.000000   \n",
       "mean                0.274234     43.689911      4.192076             0.207613   \n",
       "std                 0.816621     63.405963      9.818896             0.997123   \n",
       "min                 0.000000      0.000000      0.000000             0.000000   \n",
       "25%                 0.000000      6.700000      0.500000             0.000000   \n",
       "50%                 0.000000     27.800000      2.100000             0.000000   \n",
       "75%                 0.000000     60.500000      4.800000             0.000000   \n",
       "max                19.000000   4415.200000    453.300000             7.000000   \n",
       "\n",
       "              churn  \n",
       "count  72274.000000  \n",
       "mean       0.554141  \n",
       "std        0.497064  \n",
       "min        0.000000  \n",
       "25%        0.000000  \n",
       "50%        1.000000  \n",
       "75%        1.000000  \n",
       "max        1.000000  "
      ]
     },
     "execution_count": 5,
     "metadata": {},
     "output_type": "execute_result"
    }
   ],
   "source": [
    "data.describe()"
   ]
  },
  {
   "cell_type": "code",
   "execution_count": 6,
   "id": "7969a668",
   "metadata": {},
   "outputs": [
    {
     "name": "stdout",
     "output_type": "stream",
     "text": [
      "<class 'pandas.core.frame.DataFrame'>\n",
      "RangeIndex: 72274 entries, 0 to 72273\n",
      "Data columns (total 11 columns):\n",
      " #   Column                       Non-Null Count  Dtype  \n",
      "---  ------                       --------------  -----  \n",
      " 0   id                           72274 non-null  int64  \n",
      " 1   is_tv_subscriber             72274 non-null  int64  \n",
      " 2   is_movie_package_subscriber  72274 non-null  int64  \n",
      " 3   subscription_age             72274 non-null  float64\n",
      " 4   bill_avg                     72274 non-null  int64  \n",
      " 5   reamining_contract           50702 non-null  float64\n",
      " 6   service_failure_count        72274 non-null  int64  \n",
      " 7   download_avg                 71893 non-null  float64\n",
      " 8   upload_avg                   71893 non-null  float64\n",
      " 9   download_over_limit          72274 non-null  int64  \n",
      " 10  churn                        72274 non-null  int64  \n",
      "dtypes: float64(4), int64(7)\n",
      "memory usage: 6.1 MB\n"
     ]
    }
   ],
   "source": [
    "data.info()"
   ]
  },
  {
   "cell_type": "code",
   "execution_count": 7,
   "id": "7f77b1ab",
   "metadata": {},
   "outputs": [
    {
     "data": {
      "text/plain": [
       "id                                 0\n",
       "is_tv_subscriber                   0\n",
       "is_movie_package_subscriber        0\n",
       "subscription_age                   0\n",
       "bill_avg                           0\n",
       "reamining_contract             21572\n",
       "service_failure_count              0\n",
       "download_avg                     381\n",
       "upload_avg                       381\n",
       "download_over_limit                0\n",
       "churn                              0\n",
       "dtype: int64"
      ]
     },
     "execution_count": 7,
     "metadata": {},
     "output_type": "execute_result"
    }
   ],
   "source": [
    "data.isnull().sum()"
   ]
  },
  {
   "cell_type": "code",
   "execution_count": 8,
   "id": "5b59d73c",
   "metadata": {},
   "outputs": [
    {
     "data": {
      "text/plain": [
       "0"
      ]
     },
     "execution_count": 8,
     "metadata": {},
     "output_type": "execute_result"
    }
   ],
   "source": [
    "data.duplicated().sum()"
   ]
  },
  {
   "cell_type": "markdown",
   "id": "87dc113e",
   "metadata": {},
   "source": [
    "# EDA"
   ]
  },
  {
   "cell_type": "code",
   "execution_count": 9,
   "id": "aca8a177",
   "metadata": {},
   "outputs": [
    {
     "data": {
      "text/plain": [
       "1    58922\n",
       "0    13352\n",
       "Name: is_tv_subscriber, dtype: int64"
      ]
     },
     "execution_count": 9,
     "metadata": {},
     "output_type": "execute_result"
    },
    {
     "data": {
      "image/png": "[encoded data removed]",
      "text/plain": [
       "<Figure size 400x200 with 1 Axes>"
      ]
     },
     "metadata": {},
     "output_type": "display_data"
    }
   ],
   "source": [
    "plt.figure(figsize=(4,2))\n",
    "sns.countplot(data['is_tv_subscriber'])\n",
    "data['is_tv_subscriber'].value_counts()"
   ]
  },
  {
   "cell_type": "code",
   "execution_count": 10,
   "id": "40c51586",
   "metadata": {},
   "outputs": [
    {
     "data": {
      "text/plain": [
       "0    48089\n",
       "1    24185\n",
       "Name: is_movie_package_subscriber, dtype: int64"
      ]
     },
     "execution_count": 10,
     "metadata": {},
     "output_type": "execute_result"
    },
    {
     "data": {
      "image/png": "[encoded data removed]",
      "text/plain": [
       "<Figure size 400x200 with 1 Axes>"
      ]
     },
     "metadata": {},
     "output_type": "display_data"
    }
   ],
   "source": [
    "plt.figure(figsize=(4,2))\n",
    "sns.countplot(data['is_movie_package_subscriber'])\n",
    "data['is_movie_package_subscriber'].value_counts()"
   ]
  },
  {
   "cell_type": "code",
   "execution_count": 11,
   "id": "9d70ecc5",
   "metadata": {},
   "outputs": [
    {
     "data": {
      "text/plain": [
       "1    40050\n",
       "0    32224\n",
       "Name: churn, dtype: int64"
      ]
     },
     "execution_count": 11,
     "metadata": {},
     "output_type": "execute_result"
    },
    {
     "data": {
      "image/png": "[encoded data removed]",
      "text/plain": [
       "<Figure size 400x200 with 1 Axes>"
      ]
     },
     "metadata": {},
     "output_type": "display_data"
    }
   ],
   "source": [
    "plt.figure(figsize=(4,2))\n",
    "sns.countplot(data['churn'])\n",
    "data['churn'].value_counts()"
   ]
  },
  {
   "cell_type": "code",
   "execution_count": 96,
   "id": "935857ba",
   "metadata": {},
   "outputs": [
    {
     "data": {
      "image/png": "[encoded data removed]",
      "text/plain": [
       "<Figure size 600x400 with 1 Axes>"
      ]
     },
     "metadata": {},
     "output_type": "display_data"
    }
   ],
   "source": [
    "plt.figure(figsize = (6,4))\n",
    "sns.countplot(data = data, x = 'service_failure_count')\n",
    "plt.title('Phoned For Service')\n",
    "plt.show()"
   ]
  },
  {
   "cell_type": "code",
   "execution_count": 12,
   "id": "84e64b1f",
   "metadata": {},
   "outputs": [
    {
     "data": {
      "text/plain": [
       "<AxesSubplot:xlabel='reamining_contract', ylabel='Density'>"
      ]
     },
     "execution_count": 12,
     "metadata": {},
     "output_type": "execute_result"
    },
    {
     "data": {
      "image/png": "[encoded data removed]",
      "text/plain": [
       "<Figure size 400x200 with 1 Axes>"
      ]
     },
     "metadata": {},
     "output_type": "display_data"
    }
   ],
   "source": [
    "plt.figure(figsize=(4,2))\n",
    "sns.distplot(data['reamining_contract'])"
   ]
  },
  {
   "cell_type": "code",
   "execution_count": 13,
   "id": "192bcb50",
   "metadata": {},
   "outputs": [
    {
     "data": {
      "text/plain": [
       "<AxesSubplot:xlabel='subscription_age', ylabel='Density'>"
      ]
     },
     "execution_count": 13,
     "metadata": {},
     "output_type": "execute_result"
    },
    {
     "data": {
      "image/png": "[encoded data removed]",
      "text/plain": [
       "<Figure size 600x400 with 1 Axes>"
      ]
     },
     "metadata": {},
     "output_type": "display_data"
    }
   ],
   "source": [
    "plt.figure(figsize=(6,4))\n",
    "sns.distplot(data['subscription_age'])"
   ]
  },
  {
   "cell_type": "code",
   "execution_count": 14,
   "id": "ffb82d65",
   "metadata": {},
   "outputs": [
    {
     "data": {
      "text/plain": [
       "<AxesSubplot:xlabel='bill_avg', ylabel='Density'>"
      ]
     },
     "execution_count": 14,
     "metadata": {},
     "output_type": "execute_result"
    },
    {
     "data": {
      "image/png": "[encoded data removed]",
      "text/plain": [
       "<Figure size 600x400 with 1 Axes>"
      ]
     },
     "metadata": {},
     "output_type": "display_data"
    }
   ],
   "source": [
    "plt.figure(figsize=(6,4))\n",
    "sns.distplot(data['bill_avg'])"
   ]
  },
  {
   "cell_type": "code",
   "execution_count": 15,
   "id": "905c35b6",
   "metadata": {},
   "outputs": [
    {
     "data": {
      "text/plain": [
       "<AxesSubplot:xlabel='service_failure_count', ylabel='Density'>"
      ]
     },
     "execution_count": 15,
     "metadata": {},
     "output_type": "execute_result"
    },
    {
     "data": {
      "image/png": "[encoded data removed]",
      "text/plain": [
       "<Figure size 600x400 with 1 Axes>"
      ]
     },
     "metadata": {},
     "output_type": "display_data"
    }
   ],
   "source": [
    "plt.figure(figsize=(6,4))\n",
    "sns.distplot(data['service_failure_count'])"
   ]
  },
  {
   "cell_type": "code",
   "execution_count": 16,
   "id": "6f7d32b9",
   "metadata": {},
   "outputs": [
    {
     "data": {
      "text/plain": [
       "<AxesSubplot:xlabel='download_over_limit', ylabel='Density'>"
      ]
     },
     "execution_count": 16,
     "metadata": {},
     "output_type": "execute_result"
    },
    {
     "data": {
      "image/png": "[encoded data removed]",
      "text/plain": [
       "<Figure size 600x400 with 1 Axes>"
      ]
     },
     "metadata": {},
     "output_type": "display_data"
    }
   ],
   "source": [
    "plt.figure(figsize=(6,4))\n",
    "sns.distplot(data['download_over_limit'])"
   ]
  },
  {
   "cell_type": "code",
   "execution_count": 17,
   "id": "fa0efb8b",
   "metadata": {},
   "outputs": [
    {
     "data": {
      "text/plain": [
       "<AxesSubplot:xlabel='download_avg', ylabel='Density'>"
      ]
     },
     "execution_count": 17,
     "metadata": {},
     "output_type": "execute_result"
    },
    {
     "data": {
      "image/png": "[encoded data removed]",
      "text/plain": [
       "<Figure size 400x200 with 1 Axes>"
      ]
     },
     "metadata": {},
     "output_type": "display_data"
    }
   ],
   "source": [
    "plt.figure(figsize=(4,2))\n",
    "sns.distplot(data['download_avg'])"
   ]
  },
  {
   "cell_type": "code",
   "execution_count": 18,
   "id": "6b0b13d2",
   "metadata": {},
   "outputs": [
    {
     "data": {
      "text/plain": [
       "<AxesSubplot:xlabel='upload_avg', ylabel='Density'>"
      ]
     },
     "execution_count": 18,
     "metadata": {},
     "output_type": "execute_result"
    },
    {
     "data": {
      "image/png": "[encoded data removed]",
      "text/plain": [
       "<Figure size 400x200 with 1 Axes>"
      ]
     },
     "metadata": {},
     "output_type": "display_data"
    }
   ],
   "source": [
    "plt.figure(figsize=(4,2))\n",
    "sns.distplot(data['upload_avg'])"
   ]
  },
  {
   "cell_type": "code",
   "execution_count": 19,
   "id": "4da7e160",
   "metadata": {},
   "outputs": [
    {
     "data": {
      "text/plain": [
       "id                              0.000000\n",
       "is_tv_subscriber                0.000000\n",
       "is_movie_package_subscriber     0.000000\n",
       "subscription_age                0.000000\n",
       "bill_avg                        0.000000\n",
       "reamining_contract             29.847525\n",
       "service_failure_count           0.000000\n",
       "download_avg                    0.527161\n",
       "upload_avg                      0.527161\n",
       "download_over_limit             0.000000\n",
       "churn                           0.000000\n",
       "dtype: float64"
      ]
     },
     "execution_count": 19,
     "metadata": {},
     "output_type": "execute_result"
    }
   ],
   "source": [
    "data.isnull().mean()*100"
   ]
  },
  {
   "cell_type": "code",
   "execution_count": 20,
   "id": "fe6dc06b",
   "metadata": {},
   "outputs": [
    {
     "data": {
      "image/png": "[encoded data removed]",
      "text/plain": [
       "<Figure size 500x400 with 1 Axes>"
      ]
     },
     "metadata": {},
     "output_type": "display_data"
    }
   ],
   "source": [
    "plt.figure(figsize=(5,4))\n",
    "sns.boxplot(x=\"churn\",y=\"subscription_age\",data=data);plt.show() "
   ]
  },
  {
   "cell_type": "code",
   "execution_count": 21,
   "id": "739555d0",
   "metadata": {},
   "outputs": [
    {
     "data": {
      "text/plain": [
       "<Figure size 500x400 with 0 Axes>"
      ]
     },
     "metadata": {},
     "output_type": "display_data"
    },
    {
     "data": {
      "image/png": "[encoded data removed]",
      "text/plain": [
       "<Figure size 500x400 with 1 Axes>"
      ]
     },
     "metadata": {},
     "output_type": "display_data"
    },
    {
     "data": {
      "image/png": "[encoded data removed]",
      "text/plain": [
       "<Figure size 500x400 with 1 Axes>"
      ]
     },
     "metadata": {},
     "output_type": "display_data"
    }
   ],
   "source": [
    "plt.figure(figsize=(5,4))\n",
    "subscribers=[\"is_tv_subscriber\",\"is_movie_package_subscriber\"]\n",
    "for i in subscribers:\n",
    "    plt.figure(figsize=(5,4))\n",
    "    sns.categorical.boxenplot(x=\"churn\",y=\"bill_avg\",data=data,hue=i);plt.title(\"avg bill of \"+ i)\n",
    "    plt.show()"
   ]
  },
  {
   "cell_type": "code",
   "execution_count": 22,
   "id": "d6e353ca",
   "metadata": {},
   "outputs": [
    {
     "data": {
      "image/png": "[encoded data removed]",
      "text/plain": [
       "<Figure size 500x400 with 1 Axes>"
      ]
     },
     "metadata": {},
     "output_type": "display_data"
    },
    {
     "data": {
      "image/png": "[encoded data removed]",
      "text/plain": [
       "<Figure size 500x400 with 1 Axes>"
      ]
     },
     "metadata": {},
     "output_type": "display_data"
    }
   ],
   "source": [
    "data.loc[:,[\"subscription_age\",\"bill_avg\"]]\n",
    "list2=list(data.loc[:,[\"subscription_age\",\"bill_avg\"]].columns)\n",
    "for i in list2:\n",
    "    plt.figure(figsize=(5,4))\n",
    "    data[i].plot.hist(bins=20,title= str(i)+ \" historgram\")\n",
    "    plt.show()"
   ]
  },
  {
   "cell_type": "code",
   "execution_count": 23,
   "id": "42724cca",
   "metadata": {},
   "outputs": [
    {
     "data": {
      "image/png": "[encoded data removed]",
      "text/plain": [
       "<Figure size 500x400 with 1 Axes>"
      ]
     },
     "metadata": {},
     "output_type": "display_data"
    }
   ],
   "source": [
    "plt.figure(figsize=(5,4))\n",
    "sns.countplot(x=\"download_over_limit\",hue=\"churn\",data=data);plt.show()\n"
   ]
  },
  {
   "cell_type": "markdown",
   "id": "4450fdbd",
   "metadata": {},
   "source": [
    "# If we remove null values"
   ]
  },
  {
   "cell_type": "code",
   "execution_count": 24,
   "id": "4fe46377",
   "metadata": {},
   "outputs": [],
   "source": [
    "df1 = pd.read_csv(\"C:\\\\Users\\\\kamlesh prajapat\\\\OneDrive\\\\Desktop\\\\Books\\\\Internship\\\\internet_service_churn.csv\")"
   ]
  },
  {
   "cell_type": "code",
   "execution_count": 25,
   "id": "cc2146e7",
   "metadata": {},
   "outputs": [],
   "source": [
    "df1 = df1.dropna()"
   ]
  },
  {
   "cell_type": "code",
   "execution_count": 26,
   "id": "fd85adac",
   "metadata": {},
   "outputs": [],
   "source": [
    "x = df1.drop(\"churn\",axis = \"columns\")\n",
    "y = df1[\"churn\"]"
   ]
  },
  {
   "cell_type": "code",
   "execution_count": 27,
   "id": "fe5d3fb0",
   "metadata": {},
   "outputs": [
    {
     "data": {
      "text/plain": [
       "0    30044\n",
       "1    20331\n",
       "Name: churn, dtype: int64"
      ]
     },
     "execution_count": 27,
     "metadata": {},
     "output_type": "execute_result"
    }
   ],
   "source": [
    "y.value_counts()"
   ]
  },
  {
   "cell_type": "markdown",
   "id": "90d12e44",
   "metadata": {},
   "source": [
    "## Balancing the data "
   ]
  },
  {
   "cell_type": "code",
   "execution_count": 28,
   "id": "836cb990",
   "metadata": {},
   "outputs": [
    {
     "data": {
      "text/plain": [
       "0    30044\n",
       "1    30044\n",
       "Name: churn, dtype: int64"
      ]
     },
     "execution_count": 28,
     "metadata": {},
     "output_type": "execute_result"
    }
   ],
   "source": [
    "smote = SMOTE(sampling_strategy='minority')\n",
    "x_sm, y_sm = smote.fit_resample(x,y)\n",
    "\n",
    "y_sm.value_counts()"
   ]
  },
  {
   "cell_type": "markdown",
   "id": "450528de",
   "metadata": {},
   "source": [
    "## Scaling"
   ]
  },
  {
   "cell_type": "code",
   "execution_count": 29,
   "id": "91f79d9c",
   "metadata": {},
   "outputs": [
    {
     "data": {
      "text/plain": [
       "((42061, 10), (18027, 10))"
      ]
     },
     "execution_count": 29,
     "metadata": {},
     "output_type": "execute_result"
    }
   ],
   "source": [
    "x_train,x_test,y_train,y_test = train_test_split(x_sm,y_sm,test_size=0.3,random_state=0)\n",
    "x_train.shape,x_test.shape"
   ]
  },
  {
   "cell_type": "code",
   "execution_count": 30,
   "id": "c0fd639f",
   "metadata": {},
   "outputs": [],
   "source": [
    "scaler = StandardScaler()\n",
    "\n",
    "scaler.fit(x_train)\n",
    "\n",
    "x_train_scaled = scaler.transform(x_train)\n",
    "x_test_scaled = scaler.transform(x_test)\n"
   ]
  },
  {
   "cell_type": "markdown",
   "id": "1f2277b2",
   "metadata": {},
   "source": [
    "# Decision Tree 1"
   ]
  },
  {
   "cell_type": "code",
   "execution_count": 31,
   "id": "cc3e62ab",
   "metadata": {},
   "outputs": [],
   "source": [
    "dt_model = DecisionTreeClassifier()\n",
    "dt_model.fit(x_train_scaled, y_train)\n",
    "y_pred_dt = dt_model.predict(x_test_scaled)"
   ]
  },
  {
   "cell_type": "code",
   "execution_count": 32,
   "id": "b6e3ed11",
   "metadata": {},
   "outputs": [
    {
     "data": {
      "text/plain": [
       "0.9720974094413934"
      ]
     },
     "execution_count": 32,
     "metadata": {},
     "output_type": "execute_result"
    }
   ],
   "source": [
    "accuracy_score(y_true=y_test, y_pred=y_pred_dt)\n"
   ]
  },
  {
   "cell_type": "code",
   "execution_count": 33,
   "id": "6200468c",
   "metadata": {},
   "outputs": [
    {
     "data": {
      "text/plain": [
       "array([[8738,  217],\n",
       "       [ 286, 8786]], dtype=int64)"
      ]
     },
     "execution_count": 33,
     "metadata": {},
     "output_type": "execute_result"
    }
   ],
   "source": [
    "cm_1 = confusion_matrix(y_test, y_pred_dt)\n",
    "cm_1"
   ]
  },
  {
   "cell_type": "code",
   "execution_count": 34,
   "id": "5ff0625b",
   "metadata": {},
   "outputs": [
    {
     "data": {
      "text/plain": [
       "(0.9758969232478063, 0.9684744268077602, 0.9721715076071922)"
      ]
     },
     "execution_count": 34,
     "metadata": {},
     "output_type": "execute_result"
    }
   ],
   "source": [
    "precision_1 = precision_score(y_test, y_pred_dt)\n",
    "recall_1 = recall_score(y_test, y_pred_dt)\n",
    "f1_1 = f1_score(y_test, y_pred_dt)\n",
    "precision_1,recall_1,f1_1"
   ]
  },
  {
   "cell_type": "markdown",
   "id": "1e923838",
   "metadata": {},
   "source": [
    "# SVM 1"
   ]
  },
  {
   "cell_type": "code",
   "execution_count": 35,
   "id": "9620f3e4",
   "metadata": {},
   "outputs": [],
   "source": [
    "svm_model_1 = SVC()\n",
    "svm_model_1.fit(x_train_scaled, y_train)\n",
    "y_pred_svm_1 = svm_model_1.predict(x_test_scaled)"
   ]
  },
  {
   "cell_type": "code",
   "execution_count": 36,
   "id": "046bb8eb",
   "metadata": {},
   "outputs": [
    {
     "data": {
      "text/plain": [
       "0.9212847395573307"
      ]
     },
     "execution_count": 36,
     "metadata": {},
     "output_type": "execute_result"
    }
   ],
   "source": [
    "accuracy_score(y_true=y_test, y_pred=y_pred_svm_1)"
   ]
  },
  {
   "cell_type": "code",
   "execution_count": 37,
   "id": "4ea8471a",
   "metadata": {},
   "outputs": [
    {
     "data": {
      "text/plain": [
       "array([[8501,  454],\n",
       "       [ 965, 8107]], dtype=int64)"
      ]
     },
     "execution_count": 37,
     "metadata": {},
     "output_type": "execute_result"
    }
   ],
   "source": [
    "cm_1 = confusion_matrix(y_test, y_pred_svm_1)\n",
    "cm_1"
   ]
  },
  {
   "cell_type": "code",
   "execution_count": 38,
   "id": "0996e0c4",
   "metadata": {},
   "outputs": [
    {
     "data": {
      "text/plain": [
       "(0.9469688120546665, 0.8936287477954145, 0.9195258889582034)"
      ]
     },
     "execution_count": 38,
     "metadata": {},
     "output_type": "execute_result"
    }
   ],
   "source": [
    "precision_1 = precision_score(y_test, y_pred_svm_1)\n",
    "recall_1 = recall_score(y_test, y_pred_svm_1)\n",
    "f1_1 = f1_score(y_test, y_pred_svm_1)\n",
    "precision_1,recall_1,f1_1"
   ]
  },
  {
   "cell_type": "markdown",
   "id": "69b22159",
   "metadata": {},
   "source": [
    "# Random Forest 1"
   ]
  },
  {
   "cell_type": "code",
   "execution_count": 39,
   "id": "f7220bb7",
   "metadata": {},
   "outputs": [],
   "source": [
    "rf_model_1 = RandomForestClassifier()\n",
    "rf_model_1.fit(x_train_scaled, y_train)\n",
    "y_pred_rf_1 = rf_model_1.predict(x_test_scaled)"
   ]
  },
  {
   "cell_type": "code",
   "execution_count": 40,
   "id": "003ce23c",
   "metadata": {},
   "outputs": [
    {
     "data": {
      "text/plain": [
       "0.9760914184279137"
      ]
     },
     "execution_count": 40,
     "metadata": {},
     "output_type": "execute_result"
    }
   ],
   "source": [
    "accuracy_score(y_true=y_test, y_pred=y_pred_rf_1)"
   ]
  },
  {
   "cell_type": "code",
   "execution_count": 41,
   "id": "38c963b3",
   "metadata": {},
   "outputs": [
    {
     "data": {
      "text/plain": [
       "array([[8898,   57],\n",
       "       [ 374, 8698]], dtype=int64)"
      ]
     },
     "execution_count": 41,
     "metadata": {},
     "output_type": "execute_result"
    }
   ],
   "source": [
    "cm_1 = confusion_matrix(y_test, y_pred_rf_1)\n",
    "cm_1"
   ]
  },
  {
   "cell_type": "code",
   "execution_count": 42,
   "id": "1517c27b",
   "metadata": {},
   "outputs": [
    {
     "data": {
      "text/plain": [
       "(0.993489434608795, 0.9587742504409171, 0.9758231895439502)"
      ]
     },
     "execution_count": 42,
     "metadata": {},
     "output_type": "execute_result"
    }
   ],
   "source": [
    "precision_1 = precision_score(y_test, y_pred_rf_1)\n",
    "recall_1 = recall_score(y_test, y_pred_rf_1)\n",
    "f1_1 = f1_score(y_test, y_pred_rf_1)\n",
    "precision_1,recall_1,f1_1"
   ]
  },
  {
   "cell_type": "markdown",
   "id": "ed0378c0",
   "metadata": {},
   "source": [
    "# Logistic Regression 1"
   ]
  },
  {
   "cell_type": "code",
   "execution_count": 43,
   "id": "d53a77ee",
   "metadata": {},
   "outputs": [],
   "source": [
    "lr_model_1 = LogisticRegression()\n",
    "lr_model_1.fit(x_train_scaled, y_train)\n",
    "y_pred_lr_1 = lr_model_1.predict(x_test_scaled)"
   ]
  },
  {
   "cell_type": "code",
   "execution_count": 44,
   "id": "f80b970a",
   "metadata": {},
   "outputs": [
    {
     "data": {
      "text/plain": [
       "0.8845620458201586"
      ]
     },
     "execution_count": 44,
     "metadata": {},
     "output_type": "execute_result"
    }
   ],
   "source": [
    "accuracy_score(y_true=y_test, y_pred=y_pred_lr_1)"
   ]
  },
  {
   "cell_type": "code",
   "execution_count": 45,
   "id": "a8dd279e",
   "metadata": {},
   "outputs": [
    {
     "data": {
      "text/plain": [
       "array([[8212,  743],\n",
       "       [1338, 7734]], dtype=int64)"
      ]
     },
     "execution_count": 45,
     "metadata": {},
     "output_type": "execute_result"
    }
   ],
   "source": [
    "cm_1 = confusion_matrix(y_test, y_pred_lr_1)\n",
    "cm_1"
   ]
  },
  {
   "cell_type": "code",
   "execution_count": 46,
   "id": "25b2561c",
   "metadata": {},
   "outputs": [
    {
     "data": {
      "text/plain": [
       "(0.9123510675946679, 0.8525132275132276, 0.881417744600832)"
      ]
     },
     "execution_count": 46,
     "metadata": {},
     "output_type": "execute_result"
    }
   ],
   "source": [
    "precision_1 = precision_score(y_test, y_pred_lr_1)\n",
    "recall_1 = recall_score(y_test, y_pred_lr_1)\n",
    "f1_1 = f1_score(y_test,y_pred_lr_1)\n",
    "precision_1,recall_1,f1_1"
   ]
  },
  {
   "cell_type": "markdown",
   "id": "fdf20bbb",
   "metadata": {},
   "source": [
    "# If we remove the column reamining_contract"
   ]
  },
  {
   "cell_type": "code",
   "execution_count": 47,
   "id": "561c765b",
   "metadata": {},
   "outputs": [],
   "source": [
    "df2 = pd.read_csv(\"C:\\\\Users\\\\kamlesh prajapat\\\\OneDrive\\\\Desktop\\\\Books\\\\Internship\\\\internet_service_churn.csv\")"
   ]
  },
  {
   "cell_type": "code",
   "execution_count": 48,
   "id": "0dcd31c4",
   "metadata": {},
   "outputs": [],
   "source": [
    "df2 = df2.drop('reamining_contract',axis='columns')"
   ]
  },
  {
   "cell_type": "code",
   "execution_count": 49,
   "id": "2128cfa3",
   "metadata": {},
   "outputs": [],
   "source": [
    "df2 = df2.dropna()"
   ]
  },
  {
   "cell_type": "code",
   "execution_count": 50,
   "id": "c043ba42",
   "metadata": {},
   "outputs": [],
   "source": [
    "x = df2.drop(\"churn\",axis = \"columns\")\n",
    "y = df2[\"churn\"]"
   ]
  },
  {
   "cell_type": "code",
   "execution_count": 51,
   "id": "6f4c7dca",
   "metadata": {},
   "outputs": [
    {
     "data": {
      "text/plain": [
       "1    40050\n",
       "0    31843\n",
       "Name: churn, dtype: int64"
      ]
     },
     "execution_count": 51,
     "metadata": {},
     "output_type": "execute_result"
    }
   ],
   "source": [
    "y.value_counts()"
   ]
  },
  {
   "cell_type": "markdown",
   "id": "a499977b",
   "metadata": {},
   "source": [
    "## Balancing the data "
   ]
  },
  {
   "cell_type": "code",
   "execution_count": 52,
   "id": "db5515f2",
   "metadata": {},
   "outputs": [
    {
     "data": {
      "text/plain": [
       "0    40050\n",
       "1    40050\n",
       "Name: churn, dtype: int64"
      ]
     },
     "execution_count": 52,
     "metadata": {},
     "output_type": "execute_result"
    }
   ],
   "source": [
    "smote = SMOTE(sampling_strategy='minority')\n",
    "x_sm, y_sm = smote.fit_resample(x,y)\n",
    "\n",
    "y_sm.value_counts()"
   ]
  },
  {
   "cell_type": "markdown",
   "id": "68c0fa5b",
   "metadata": {},
   "source": [
    "## Scaling"
   ]
  },
  {
   "cell_type": "code",
   "execution_count": 53,
   "id": "83f1e8b8",
   "metadata": {},
   "outputs": [
    {
     "data": {
      "text/plain": [
       "((56070, 9), (24030, 9))"
      ]
     },
     "execution_count": 53,
     "metadata": {},
     "output_type": "execute_result"
    }
   ],
   "source": [
    "x_train,x_test,y_train,y_test = train_test_split(x_sm,y_sm,test_size=0.3,random_state=0)\n",
    "x_train.shape,x_test.shape"
   ]
  },
  {
   "cell_type": "code",
   "execution_count": 54,
   "id": "4ab2de3c",
   "metadata": {},
   "outputs": [],
   "source": [
    "scaler = StandardScaler()\n",
    "\n",
    "scaler.fit(x_train)\n",
    "\n",
    "x_train_scaled = scaler.transform(x_train)\n",
    "x_test_scaled = scaler.transform(x_test)"
   ]
  },
  {
   "cell_type": "markdown",
   "id": "3af6bf1f",
   "metadata": {},
   "source": [
    "# Decision Tree 2"
   ]
  },
  {
   "cell_type": "code",
   "execution_count": 55,
   "id": "a04106d7",
   "metadata": {},
   "outputs": [],
   "source": [
    "dt_model_2 = DecisionTreeClassifier()\n",
    "dt_model_2.fit(x_train_scaled, y_train)\n",
    "y_pred_dt_2 = dt_model_2.predict(x_test_scaled)"
   ]
  },
  {
   "cell_type": "code",
   "execution_count": 56,
   "id": "ef71e438",
   "metadata": {},
   "outputs": [
    {
     "data": {
      "text/plain": [
       "0.9540990428630878"
      ]
     },
     "execution_count": 56,
     "metadata": {},
     "output_type": "execute_result"
    }
   ],
   "source": [
    "accuracy_score(y_true=y_test, y_pred=y_pred_dt_2)"
   ]
  },
  {
   "cell_type": "code",
   "execution_count": 57,
   "id": "1af30267",
   "metadata": {},
   "outputs": [
    {
     "data": {
      "text/plain": [
       "array([[11538,   515],\n",
       "       [  588, 11389]], dtype=int64)"
      ]
     },
     "execution_count": 57,
     "metadata": {},
     "output_type": "execute_result"
    }
   ],
   "source": [
    "cm_2 = confusion_matrix(y_test, y_pred_dt_2)\n",
    "cm_2"
   ]
  },
  {
   "cell_type": "code",
   "execution_count": 58,
   "id": "6b74b00e",
   "metadata": {},
   "outputs": [
    {
     "data": {
      "text/plain": [
       "(0.9567372311827957, 0.950905902980713, 0.9538126544114568)"
      ]
     },
     "execution_count": 58,
     "metadata": {},
     "output_type": "execute_result"
    }
   ],
   "source": [
    "precision_2 = precision_score(y_test,y_pred_dt_2)\n",
    "recall_2 = recall_score(y_test, y_pred_dt_2)\n",
    "f1_2 = f1_score(y_test, y_pred_dt_2)\n",
    "precision_2,recall_2,f1_2"
   ]
  },
  {
   "cell_type": "markdown",
   "id": "e614286a",
   "metadata": {},
   "source": [
    "# SVM 2"
   ]
  },
  {
   "cell_type": "code",
   "execution_count": 59,
   "id": "8b87b6b3",
   "metadata": {},
   "outputs": [],
   "source": [
    "svm_model_2 = SVC()\n",
    "svm_model_2.fit(x_train_scaled, y_train)\n",
    "y_pred_svm_2 = svm_model_2.predict(x_test_scaled)"
   ]
  },
  {
   "cell_type": "code",
   "execution_count": 60,
   "id": "2aadd90a",
   "metadata": {},
   "outputs": [
    {
     "data": {
      "text/plain": [
       "0.8935081148564294"
      ]
     },
     "execution_count": 60,
     "metadata": {},
     "output_type": "execute_result"
    }
   ],
   "source": [
    "accuracy_score(y_true=y_test, y_pred= y_pred_svm_2)"
   ]
  },
  {
   "cell_type": "code",
   "execution_count": 61,
   "id": "27513286",
   "metadata": {},
   "outputs": [
    {
     "data": {
      "text/plain": [
       "array([[11982,    71],\n",
       "       [ 2488,  9489]], dtype=int64)"
      ]
     },
     "execution_count": 61,
     "metadata": {},
     "output_type": "execute_result"
    }
   ],
   "source": [
    "cm_2 = confusion_matrix(y_test, y_pred_svm_2)\n",
    "cm_2"
   ]
  },
  {
   "cell_type": "code",
   "execution_count": 62,
   "id": "fc635117",
   "metadata": {},
   "outputs": [
    {
     "data": {
      "text/plain": [
       "(0.9925732217573222, 0.7922685146530851, 0.8811812230115614)"
      ]
     },
     "execution_count": 62,
     "metadata": {},
     "output_type": "execute_result"
    }
   ],
   "source": [
    "precision_2 = precision_score(y_test,y_pred_svm_2)\n",
    "recall_2 = recall_score(y_test, y_pred_svm_2)\n",
    "f1_2 = f1_score(y_test, y_pred_svm_2)\n",
    "precision_2,recall_2,f1_2"
   ]
  },
  {
   "cell_type": "markdown",
   "id": "b7ad8aac",
   "metadata": {},
   "source": [
    "# Random Forest 2"
   ]
  },
  {
   "cell_type": "code",
   "execution_count": 63,
   "id": "f2ac352f",
   "metadata": {},
   "outputs": [],
   "source": [
    "rf_model_2 = RandomForestClassifier()\n",
    "rf_model_2.fit(x_train_scaled, y_train)\n",
    "y_pred_rf_2 = rf_model_2.predict(x_test_scaled)"
   ]
  },
  {
   "cell_type": "code",
   "execution_count": 64,
   "id": "734ce21a",
   "metadata": {},
   "outputs": [
    {
     "data": {
      "text/plain": [
       "0.953017062005826"
      ]
     },
     "execution_count": 64,
     "metadata": {},
     "output_type": "execute_result"
    }
   ],
   "source": [
    "accuracy_score(y_true=y_test, y_pred= y_pred_rf_2)"
   ]
  },
  {
   "cell_type": "code",
   "execution_count": 65,
   "id": "6076796e",
   "metadata": {},
   "outputs": [
    {
     "data": {
      "text/plain": [
       "array([[11957,    96],\n",
       "       [ 1033, 10944]], dtype=int64)"
      ]
     },
     "execution_count": 65,
     "metadata": {},
     "output_type": "execute_result"
    }
   ],
   "source": [
    "cm_2 = confusion_matrix(y_test, y_pred_rf_2)\n",
    "cm_2"
   ]
  },
  {
   "cell_type": "code",
   "execution_count": 66,
   "id": "ea07e0a8",
   "metadata": {},
   "outputs": [
    {
     "data": {
      "text/plain": [
       "(0.991304347826087, 0.913751356767137, 0.9509492983447017)"
      ]
     },
     "execution_count": 66,
     "metadata": {},
     "output_type": "execute_result"
    }
   ],
   "source": [
    "precision_2 = precision_score(y_test,y_pred_rf_2)\n",
    "recall_2 = recall_score(y_test, y_pred_rf_2)\n",
    "f1_2 = f1_score(y_test, y_pred_rf_2)\n",
    "precision_2,recall_2,f1_2"
   ]
  },
  {
   "cell_type": "markdown",
   "id": "5a1abc24",
   "metadata": {},
   "source": [
    "# Logistic Regression 2"
   ]
  },
  {
   "cell_type": "code",
   "execution_count": 67,
   "id": "edc45635",
   "metadata": {},
   "outputs": [],
   "source": [
    "lr_model_2 = LogisticRegression()\n",
    "lr_model_2.fit(x_train_scaled, y_train)\n",
    "y_pred_lr_2 = lr_model_2.predict(x_test_scaled)"
   ]
  },
  {
   "cell_type": "code",
   "execution_count": 68,
   "id": "adda19dd",
   "metadata": {},
   "outputs": [
    {
     "data": {
      "text/plain": [
       "0.8968372867249271"
      ]
     },
     "execution_count": 68,
     "metadata": {},
     "output_type": "execute_result"
    }
   ],
   "source": [
    "accuracy_score(y_true=y_test, y_pred= y_pred_lr_2)"
   ]
  },
  {
   "cell_type": "code",
   "execution_count": 69,
   "id": "1fb0fe1b",
   "metadata": {},
   "outputs": [
    {
     "data": {
      "text/plain": [
       "array([[11983,    70],\n",
       "       [ 2409,  9568]], dtype=int64)"
      ]
     },
     "execution_count": 69,
     "metadata": {},
     "output_type": "execute_result"
    }
   ],
   "source": [
    "cm_2 = confusion_matrix(y_test, y_pred_lr_2)\n",
    "cm_2"
   ]
  },
  {
   "cell_type": "code",
   "execution_count": 70,
   "id": "a7766af1",
   "metadata": {},
   "outputs": [
    {
     "data": {
      "text/plain": [
       "(0.992737082382237, 0.7988644902730233, 0.8853111265325005)"
      ]
     },
     "execution_count": 70,
     "metadata": {},
     "output_type": "execute_result"
    }
   ],
   "source": [
    "precision_2 = precision_score(y_test,y_pred_lr_2)\n",
    "recall_2 = recall_score(y_test, y_pred_lr_2)\n",
    "f1_2 = f1_score(y_test, y_pred_lr_2)\n",
    "precision_2,recall_2,f1_2"
   ]
  },
  {
   "cell_type": "markdown",
   "id": "f2e89a3c",
   "metadata": {},
   "source": [
    "# If we impute missing values by KNN imputer"
   ]
  },
  {
   "cell_type": "code",
   "execution_count": 71,
   "id": "53977587",
   "metadata": {},
   "outputs": [],
   "source": [
    "df3 = pd.read_csv(\"C:\\\\Users\\\\kamlesh prajapat\\\\OneDrive\\\\Desktop\\\\Books\\\\Internship\\\\internet_service_churn.csv\")"
   ]
  },
  {
   "cell_type": "code",
   "execution_count": 72,
   "id": "2a14b260",
   "metadata": {},
   "outputs": [],
   "source": [
    "knn_imputer = KNNImputer(n_neighbors=5)\n",
    "\n",
    "data_imputed = knn_imputer.fit_transform(df3)\n",
    "\n",
    "data_imputed = pd.DataFrame(data_imputed, columns=df3.columns)"
   ]
  },
  {
   "cell_type": "code",
   "execution_count": 73,
   "id": "bce136dd",
   "metadata": {},
   "outputs": [],
   "source": [
    "x = data_imputed.drop(\"churn\",axis = \"columns\")\n",
    "y = data_imputed[\"churn\"]"
   ]
  },
  {
   "cell_type": "code",
   "execution_count": 74,
   "id": "c3608f88",
   "metadata": {},
   "outputs": [
    {
     "data": {
      "text/plain": [
       "1.0    40050\n",
       "0.0    32224\n",
       "Name: churn, dtype: int64"
      ]
     },
     "execution_count": 74,
     "metadata": {},
     "output_type": "execute_result"
    }
   ],
   "source": [
    "y.value_counts()"
   ]
  },
  {
   "cell_type": "markdown",
   "id": "2be5669b",
   "metadata": {},
   "source": [
    "## Balancing the data "
   ]
  },
  {
   "cell_type": "code",
   "execution_count": 75,
   "id": "d9ac565a",
   "metadata": {},
   "outputs": [
    {
     "data": {
      "text/plain": [
       "0.0    40050\n",
       "1.0    40050\n",
       "Name: churn, dtype: int64"
      ]
     },
     "execution_count": 75,
     "metadata": {},
     "output_type": "execute_result"
    }
   ],
   "source": [
    "smote = SMOTE(sampling_strategy='minority')\n",
    "x_sm, y_sm = smote.fit_resample(x,y)\n",
    "\n",
    "y_sm.value_counts()"
   ]
  },
  {
   "cell_type": "markdown",
   "id": "ff4d4df9",
   "metadata": {},
   "source": [
    "## Scaling"
   ]
  },
  {
   "cell_type": "code",
   "execution_count": 76,
   "id": "74951159",
   "metadata": {},
   "outputs": [
    {
     "data": {
      "text/plain": [
       "((56070, 10), (24030, 10))"
      ]
     },
     "execution_count": 76,
     "metadata": {},
     "output_type": "execute_result"
    }
   ],
   "source": [
    "x_train,x_test,y_train,y_test = train_test_split(x_sm,y_sm,test_size=0.3,random_state=0)\n",
    "x_train.shape,x_test.shape"
   ]
  },
  {
   "cell_type": "code",
   "execution_count": 77,
   "id": "ec761fb3",
   "metadata": {},
   "outputs": [],
   "source": [
    "scaler = StandardScaler()\n",
    "\n",
    "scaler.fit(x_train)\n",
    "\n",
    "x_train_scaled = scaler.transform(x_train)\n",
    "x_test_scaled = scaler.transform(x_test)"
   ]
  },
  {
   "cell_type": "markdown",
   "id": "38536d8c",
   "metadata": {},
   "source": [
    "## Decision Tree 3"
   ]
  },
  {
   "cell_type": "code",
   "execution_count": 78,
   "id": "0559cd48",
   "metadata": {},
   "outputs": [],
   "source": [
    "dt_model_3 = DecisionTreeClassifier()\n",
    "dt_model_3.fit(x_train_scaled, y_train)\n",
    "y_pred_dt_3 = dt_model_3.predict(x_test_scaled)"
   ]
  },
  {
   "cell_type": "code",
   "execution_count": 79,
   "id": "4860966c",
   "metadata": {},
   "outputs": [
    {
     "data": {
      "text/plain": [
       "0.953391593841032"
      ]
     },
     "execution_count": 79,
     "metadata": {},
     "output_type": "execute_result"
    }
   ],
   "source": [
    "accuracy_score(y_true=y_test, y_pred= y_pred_dt_3)"
   ]
  },
  {
   "cell_type": "code",
   "execution_count": 80,
   "id": "5c76629a",
   "metadata": {},
   "outputs": [
    {
     "data": {
      "text/plain": [
       "array([[11600,   554],\n",
       "       [  566, 11310]], dtype=int64)"
      ]
     },
     "execution_count": 80,
     "metadata": {},
     "output_type": "execute_result"
    }
   ],
   "source": [
    "cm_3 = confusion_matrix(y_test, y_pred_dt_3)\n",
    "cm_3"
   ]
  },
  {
   "cell_type": "code",
   "execution_count": 81,
   "id": "e467548a",
   "metadata": {},
   "outputs": [
    {
     "data": {
      "text/plain": [
       "(0.953304113283884, 0.9523408555069047, 0.9528222409435553)"
      ]
     },
     "execution_count": 81,
     "metadata": {},
     "output_type": "execute_result"
    }
   ],
   "source": [
    "precision_3 = precision_score(y_test,y_pred_dt_3)\n",
    "recall_3 = recall_score(y_test, y_pred_dt_3)\n",
    "f1_3 = f1_score(y_test, y_pred_dt_3)\n",
    "precision_3,recall_3,f1_3"
   ]
  },
  {
   "cell_type": "markdown",
   "id": "d020aedd",
   "metadata": {},
   "source": [
    "# SVM 3"
   ]
  },
  {
   "cell_type": "code",
   "execution_count": 82,
   "id": "36d1e9f8",
   "metadata": {},
   "outputs": [],
   "source": [
    "svm_model_3 = SVC()\n",
    "svm_model_3.fit(x_train_scaled, y_train)\n",
    "y_pred_svm_3 = svm_model_3.predict(x_test_scaled)"
   ]
  },
  {
   "cell_type": "code",
   "execution_count": 83,
   "id": "47c8cc93",
   "metadata": {},
   "outputs": [
    {
     "data": {
      "text/plain": [
       "0.9177278401997503"
      ]
     },
     "execution_count": 83,
     "metadata": {},
     "output_type": "execute_result"
    }
   ],
   "source": [
    "accuracy_score(y_true=y_test, y_pred= y_pred_svm_3)"
   ]
  },
  {
   "cell_type": "code",
   "execution_count": 84,
   "id": "79db31f4",
   "metadata": {},
   "outputs": [
    {
     "data": {
      "text/plain": [
       "array([[11915,   239],\n",
       "       [ 1738, 10138]], dtype=int64)"
      ]
     },
     "execution_count": 84,
     "metadata": {},
     "output_type": "execute_result"
    }
   ],
   "source": [
    "cm_3 = confusion_matrix(y_test, y_pred_svm_3)\n",
    "cm_3"
   ]
  },
  {
   "cell_type": "code",
   "execution_count": 85,
   "id": "be2d25f2",
   "metadata": {},
   "outputs": [
    {
     "data": {
      "text/plain": [
       "(0.976968295268382, 0.8536544291007073, 0.911158046106143)"
      ]
     },
     "execution_count": 85,
     "metadata": {},
     "output_type": "execute_result"
    }
   ],
   "source": [
    "precision_3 = precision_score(y_test,y_pred_svm_3)\n",
    "recall_3 = recall_score(y_test, y_pred_svm_3)\n",
    "f1_3 = f1_score(y_test, y_pred_svm_3)\n",
    "precision_3,recall_3,f1_3"
   ]
  },
  {
   "cell_type": "markdown",
   "id": "df918088",
   "metadata": {},
   "source": [
    "## Random Forest 3"
   ]
  },
  {
   "cell_type": "code",
   "execution_count": 86,
   "id": "7717fa45",
   "metadata": {},
   "outputs": [],
   "source": [
    "rf_model_3 = RandomForestClassifier()\n",
    "rf_model_3.fit(x_train_scaled, y_train)\n",
    "y_pred_rf_3 = rf_model_3.predict(x_test_scaled)"
   ]
  },
  {
   "cell_type": "code",
   "execution_count": 87,
   "id": "fb978931",
   "metadata": {},
   "outputs": [
    {
     "data": {
      "text/plain": [
       "0.9671660424469414"
      ]
     },
     "execution_count": 87,
     "metadata": {},
     "output_type": "execute_result"
    }
   ],
   "source": [
    "accuracy_score(y_true=y_test, y_pred= y_pred_rf_3)"
   ]
  },
  {
   "cell_type": "code",
   "execution_count": 88,
   "id": "992ceabb",
   "metadata": {},
   "outputs": [
    {
     "data": {
      "text/plain": [
       "array([[11996,   158],\n",
       "       [  631, 11245]], dtype=int64)"
      ]
     },
     "execution_count": 88,
     "metadata": {},
     "output_type": "execute_result"
    }
   ],
   "source": [
    "cm_3 = confusion_matrix(y_test, y_pred_rf_3)\n",
    "cm_3"
   ]
  },
  {
   "cell_type": "code",
   "execution_count": 89,
   "id": "4aeb8e38",
   "metadata": {},
   "outputs": [
    {
     "data": {
      "text/plain": [
       "(0.9861439971937209, 0.9468676321993937, 0.9661067915288458)"
      ]
     },
     "execution_count": 89,
     "metadata": {},
     "output_type": "execute_result"
    }
   ],
   "source": [
    "precision_3 = precision_score(y_test,y_pred_rf_3)\n",
    "recall_3 = recall_score(y_test, y_pred_rf_3)\n",
    "f1_3 = f1_score(y_test, y_pred_rf_3)\n",
    "precision_3,recall_3,f1_3"
   ]
  },
  {
   "cell_type": "markdown",
   "id": "b1b22455",
   "metadata": {},
   "source": [
    "## Logistic Regression 3 "
   ]
  },
  {
   "cell_type": "code",
   "execution_count": 90,
   "id": "482611fd",
   "metadata": {},
   "outputs": [],
   "source": [
    "lr_model_3 = LogisticRegression()\n",
    "lr_model_3.fit(x_train_scaled, y_train)\n",
    "y_pred_lr_3 = lr_model_3.predict(x_test_scaled)"
   ]
  },
  {
   "cell_type": "code",
   "execution_count": 91,
   "id": "1119503c",
   "metadata": {},
   "outputs": [
    {
     "data": {
      "text/plain": [
       "0.9081564710778194"
      ]
     },
     "execution_count": 91,
     "metadata": {},
     "output_type": "execute_result"
    }
   ],
   "source": [
    "accuracy_score(y_true=y_test, y_pred= y_pred_lr_3)"
   ]
  },
  {
   "cell_type": "code",
   "execution_count": 92,
   "id": "5eb4d5c9",
   "metadata": {},
   "outputs": [
    {
     "data": {
      "text/plain": [
       "array([[11794,   360],\n",
       "       [ 1847, 10029]], dtype=int64)"
      ]
     },
     "execution_count": 92,
     "metadata": {},
     "output_type": "execute_result"
    }
   ],
   "source": [
    "cm_3 = confusion_matrix(y_test, y_pred_lr_3)\n",
    "cm_3"
   ]
  },
  {
   "cell_type": "code",
   "execution_count": 93,
   "id": "d80f284f",
   "metadata": {},
   "outputs": [
    {
     "data": {
      "text/plain": [
       "(0.9653479641928964, 0.8444762546311889, 0.9008758140579384)"
      ]
     },
     "execution_count": 93,
     "metadata": {},
     "output_type": "execute_result"
    }
   ],
   "source": [
    "precision_3 = precision_score(y_test,y_pred_lr_3)\n",
    "recall_3 = recall_score(y_test, y_pred_lr_3)\n",
    "f1_3 = f1_score(y_test, y_pred_lr_3)\n",
    "precision_3,recall_3,f1_3"
   ]
  },
  {
   "cell_type": "code",
   "execution_count": null,
   "id": "aa5673a9",
   "metadata": {},
   "outputs": [],
   "source": []
  },
  {
   "cell_type": "markdown",
   "id": "e5a6dd34",
   "metadata": {},
   "source": [
    "## Removing some features "
   ]
  },
  {
   "cell_type": "code",
   "execution_count": 391,
   "id": "19308e4c",
   "metadata": {},
   "outputs": [],
   "source": [
    "df4 = pd.read_csv(\"C:\\\\Users\\\\kamlesh prajapat\\\\OneDrive\\\\Desktop\\\\Books\\\\Internship\\\\internet_service_churn.csv\")"
   ]
  },
  {
   "cell_type": "code",
   "execution_count": 392,
   "id": "81290b9f",
   "metadata": {},
   "outputs": [
    {
     "data": {
      "text/html": [
       "<div>\n",
       "<style scoped>\n",
       "    .dataframe tbody tr th:only-of-type {\n",
       "        vertical-align: middle;\n",
       "    }\n",
       "\n",
       "    .dataframe tbody tr th {\n",
       "        vertical-align: top;\n",
       "    }\n",
       "\n",
       "    .dataframe thead th {\n",
       "        text-align: right;\n",
       "    }\n",
       "</style>\n",
       "<table border=\"1\" class=\"dataframe\">\n",
       "  <thead>\n",
       "    <tr style=\"text-align: right;\">\n",
       "      <th></th>\n",
       "      <th>id</th>\n",
       "      <th>is_tv_subscriber</th>\n",
       "      <th>is_movie_package_subscriber</th>\n",
       "      <th>subscription_age</th>\n",
       "      <th>bill_avg</th>\n",
       "      <th>reamining_contract</th>\n",
       "      <th>service_failure_count</th>\n",
       "      <th>download_avg</th>\n",
       "      <th>upload_avg</th>\n",
       "      <th>download_over_limit</th>\n",
       "      <th>churn</th>\n",
       "    </tr>\n",
       "  </thead>\n",
       "  <tbody>\n",
       "    <tr>\n",
       "      <th>0</th>\n",
       "      <td>15</td>\n",
       "      <td>1</td>\n",
       "      <td>0</td>\n",
       "      <td>11.95</td>\n",
       "      <td>25</td>\n",
       "      <td>0.14</td>\n",
       "      <td>0</td>\n",
       "      <td>8.4</td>\n",
       "      <td>2.3</td>\n",
       "      <td>0</td>\n",
       "      <td>0</td>\n",
       "    </tr>\n",
       "    <tr>\n",
       "      <th>1</th>\n",
       "      <td>18</td>\n",
       "      <td>0</td>\n",
       "      <td>0</td>\n",
       "      <td>8.22</td>\n",
       "      <td>0</td>\n",
       "      <td>NaN</td>\n",
       "      <td>0</td>\n",
       "      <td>0.0</td>\n",
       "      <td>0.0</td>\n",
       "      <td>0</td>\n",
       "      <td>1</td>\n",
       "    </tr>\n",
       "  </tbody>\n",
       "</table>\n",
       "</div>"
      ],
      "text/plain": [
       "   id  is_tv_subscriber  is_movie_package_subscriber  subscription_age  \\\n",
       "0  15                 1                            0             11.95   \n",
       "1  18                 0                            0              8.22   \n",
       "\n",
       "   bill_avg  reamining_contract  service_failure_count  download_avg  \\\n",
       "0        25                0.14                      0           8.4   \n",
       "1         0                 NaN                      0           0.0   \n",
       "\n",
       "   upload_avg  download_over_limit  churn  \n",
       "0         2.3                    0      0  \n",
       "1         0.0                    0      1  "
      ]
     },
     "execution_count": 392,
     "metadata": {},
     "output_type": "execute_result"
    }
   ],
   "source": [
    "df4.head(2)"
   ]
  },
  {
   "cell_type": "code",
   "execution_count": 393,
   "id": "e09c6269",
   "metadata": {},
   "outputs": [],
   "source": [
    "df4 = df4.drop('id',axis='columns')"
   ]
  },
  {
   "cell_type": "code",
   "execution_count": 394,
   "id": "57dc1e20",
   "metadata": {},
   "outputs": [],
   "source": [
    "knn_imputer = KNNImputer(n_neighbors=5)\n",
    "\n",
    "data_imputed = knn_imputer.fit_transform(df4)\n",
    "\n",
    "data_imputed = pd.DataFrame(data_imputed, columns=df4.columns)"
   ]
  },
  {
   "cell_type": "code",
   "execution_count": 395,
   "id": "33d3191f",
   "metadata": {},
   "outputs": [],
   "source": [
    "x = data_imputed.drop(\"churn\",axis = \"columns\")\n",
    "y = data_imputed[\"churn\"]"
   ]
  },
  {
   "cell_type": "code",
   "execution_count": 396,
   "id": "a3c20596",
   "metadata": {},
   "outputs": [
    {
     "data": {
      "text/plain": [
       "1.0    40050\n",
       "0.0    32224\n",
       "Name: churn, dtype: int64"
      ]
     },
     "execution_count": 396,
     "metadata": {},
     "output_type": "execute_result"
    }
   ],
   "source": [
    "y.value_counts()"
   ]
  },
  {
   "cell_type": "code",
   "execution_count": 397,
   "id": "dbf7d8ea",
   "metadata": {},
   "outputs": [
    {
     "data": {
      "text/plain": [
       "0.0    40050\n",
       "1.0    40050\n",
       "Name: churn, dtype: int64"
      ]
     },
     "execution_count": 397,
     "metadata": {},
     "output_type": "execute_result"
    }
   ],
   "source": [
    "smote = SMOTE(sampling_strategy='minority')\n",
    "x_sm, y_sm = smote.fit_resample(x,y)\n",
    "\n",
    "y_sm.value_counts()"
   ]
  },
  {
   "cell_type": "code",
   "execution_count": 398,
   "id": "26da1a38",
   "metadata": {},
   "outputs": [
    {
     "data": {
      "text/html": [
       "<div>\n",
       "<style scoped>\n",
       "    .dataframe tbody tr th:only-of-type {\n",
       "        vertical-align: middle;\n",
       "    }\n",
       "\n",
       "    .dataframe tbody tr th {\n",
       "        vertical-align: top;\n",
       "    }\n",
       "\n",
       "    .dataframe thead th {\n",
       "        text-align: right;\n",
       "    }\n",
       "</style>\n",
       "<table border=\"1\" class=\"dataframe\">\n",
       "  <thead>\n",
       "    <tr style=\"text-align: right;\">\n",
       "      <th></th>\n",
       "      <th>is_tv_subscriber</th>\n",
       "      <th>is_movie_package_subscriber</th>\n",
       "      <th>subscription_age</th>\n",
       "      <th>bill_avg</th>\n",
       "      <th>reamining_contract</th>\n",
       "      <th>service_failure_count</th>\n",
       "      <th>download_avg</th>\n",
       "      <th>upload_avg</th>\n",
       "      <th>download_over_limit</th>\n",
       "      <th>churn</th>\n",
       "    </tr>\n",
       "  </thead>\n",
       "  <tbody>\n",
       "    <tr>\n",
       "      <th>0</th>\n",
       "      <td>1.0</td>\n",
       "      <td>0.0</td>\n",
       "      <td>11.95</td>\n",
       "      <td>25.0</td>\n",
       "      <td>0.140</td>\n",
       "      <td>0.0</td>\n",
       "      <td>8.4</td>\n",
       "      <td>2.3</td>\n",
       "      <td>0.0</td>\n",
       "      <td>0.0</td>\n",
       "    </tr>\n",
       "    <tr>\n",
       "      <th>1</th>\n",
       "      <td>0.0</td>\n",
       "      <td>0.0</td>\n",
       "      <td>8.22</td>\n",
       "      <td>0.0</td>\n",
       "      <td>0.058</td>\n",
       "      <td>0.0</td>\n",
       "      <td>0.0</td>\n",
       "      <td>0.0</td>\n",
       "      <td>0.0</td>\n",
       "      <td>1.0</td>\n",
       "    </tr>\n",
       "    <tr>\n",
       "      <th>2</th>\n",
       "      <td>1.0</td>\n",
       "      <td>0.0</td>\n",
       "      <td>8.91</td>\n",
       "      <td>16.0</td>\n",
       "      <td>0.000</td>\n",
       "      <td>0.0</td>\n",
       "      <td>13.7</td>\n",
       "      <td>0.9</td>\n",
       "      <td>0.0</td>\n",
       "      <td>1.0</td>\n",
       "    </tr>\n",
       "    <tr>\n",
       "      <th>3</th>\n",
       "      <td>0.0</td>\n",
       "      <td>0.0</td>\n",
       "      <td>6.87</td>\n",
       "      <td>21.0</td>\n",
       "      <td>0.196</td>\n",
       "      <td>1.0</td>\n",
       "      <td>0.0</td>\n",
       "      <td>0.0</td>\n",
       "      <td>0.0</td>\n",
       "      <td>1.0</td>\n",
       "    </tr>\n",
       "    <tr>\n",
       "      <th>4</th>\n",
       "      <td>0.0</td>\n",
       "      <td>0.0</td>\n",
       "      <td>6.39</td>\n",
       "      <td>0.0</td>\n",
       "      <td>0.342</td>\n",
       "      <td>0.0</td>\n",
       "      <td>0.0</td>\n",
       "      <td>0.0</td>\n",
       "      <td>0.0</td>\n",
       "      <td>1.0</td>\n",
       "    </tr>\n",
       "  </tbody>\n",
       "</table>\n",
       "</div>"
      ],
      "text/plain": [
       "   is_tv_subscriber  is_movie_package_subscriber  subscription_age  bill_avg  \\\n",
       "0               1.0                          0.0             11.95      25.0   \n",
       "1               0.0                          0.0              8.22       0.0   \n",
       "2               1.0                          0.0              8.91      16.0   \n",
       "3               0.0                          0.0              6.87      21.0   \n",
       "4               0.0                          0.0              6.39       0.0   \n",
       "\n",
       "   reamining_contract  service_failure_count  download_avg  upload_avg  \\\n",
       "0               0.140                    0.0           8.4         2.3   \n",
       "1               0.058                    0.0           0.0         0.0   \n",
       "2               0.000                    0.0          13.7         0.9   \n",
       "3               0.196                    1.0           0.0         0.0   \n",
       "4               0.342                    0.0           0.0         0.0   \n",
       "\n",
       "   download_over_limit  churn  \n",
       "0                  0.0    0.0  \n",
       "1                  0.0    1.0  \n",
       "2                  0.0    1.0  \n",
       "3                  0.0    1.0  \n",
       "4                  0.0    1.0  "
      ]
     },
     "execution_count": 398,
     "metadata": {},
     "output_type": "execute_result"
    }
   ],
   "source": [
    "data_imputed.head()"
   ]
  },
  {
   "cell_type": "code",
   "execution_count": 399,
   "id": "68fffd1d",
   "metadata": {},
   "outputs": [
    {
     "data": {
      "text/plain": [
       "((64080, 9), (16020, 9))"
      ]
     },
     "execution_count": 399,
     "metadata": {},
     "output_type": "execute_result"
    }
   ],
   "source": [
    "x_train,x_test,y_train,y_test = train_test_split(x_sm,y_sm,test_size=0.2,random_state=0)\n",
    "x_train.shape,x_test.shape"
   ]
  },
  {
   "cell_type": "code",
   "execution_count": 400,
   "id": "b0b0557b",
   "metadata": {},
   "outputs": [
    {
     "name": "stdout",
     "output_type": "stream",
     "text": [
      "       is_tv_subscriber  is_movie_package_subscriber  subscription_age  \\\n",
      "28152               1.0                          1.0          5.110000   \n",
      "73447               1.0                          1.0          6.831665   \n",
      "58065               1.0                          0.0          1.640000   \n",
      "49900               1.0                          1.0          2.520000   \n",
      "19734               1.0                          0.0          0.280000   \n",
      "...                 ...                          ...               ...   \n",
      "21243               1.0                          1.0          0.850000   \n",
      "45891               1.0                          0.0          2.630000   \n",
      "42613               1.0                          0.0          2.980000   \n",
      "43567               1.0                          1.0          2.890000   \n",
      "68268               0.0                          0.0          0.260000   \n",
      "\n",
      "       bill_avg  reamining_contract  service_failure_count  download_avg  \\\n",
      "28152      24.0               0.904               0.000000     35.700000   \n",
      "73447      10.0               1.215               0.833326     10.233335   \n",
      "58065      13.0               0.340               0.000000     33.100000   \n",
      "49900      35.0               0.490               0.000000    100.100000   \n",
      "19734      20.0               0.354               0.000000      0.000000   \n",
      "...         ...                 ...                    ...           ...   \n",
      "21243      20.0               0.000               0.000000      0.000000   \n",
      "45891      25.0               0.330               0.000000     42.600000   \n",
      "42613      20.0               0.970               0.000000    127.600000   \n",
      "43567      24.0               0.990               0.000000    141.700000   \n",
      "68268      37.0               0.000               1.000000     99.300000   \n",
      "\n",
      "       upload_avg  download_over_limit  \n",
      "28152    1.600000                  0.0  \n",
      "73447    1.216663                  0.0  \n",
      "58065    3.300000                  0.0  \n",
      "49900    8.300000                  0.0  \n",
      "19734    0.000000                  0.0  \n",
      "...           ...                  ...  \n",
      "21243    0.000000                  0.0  \n",
      "45891    3.400000                  0.0  \n",
      "42613    7.900000                  0.0  \n",
      "43567   15.000000                  0.0  \n",
      "68268    7.900000                  0.0  \n",
      "\n",
      "[64080 rows x 9 columns]\n"
     ]
    }
   ],
   "source": [
    "print(x_train)"
   ]
  },
  {
   "cell_type": "code",
   "execution_count": 401,
   "id": "ddb96a4a",
   "metadata": {},
   "outputs": [],
   "source": [
    "from sklearn.ensemble import ExtraTreesClassifier\n"
   ]
  },
  {
   "cell_type": "code",
   "execution_count": 402,
   "id": "0d9fcbf4",
   "metadata": {},
   "outputs": [
    {
     "name": "stdout",
     "output_type": "stream",
     "text": [
      "[0.08642673 0.0512734  0.09484309 0.09422793 0.47920839 0.01457862\n",
      " 0.09422349 0.06847301 0.01674533]\n"
     ]
    }
   ],
   "source": [
    "model = ExtraTreesClassifier()\n",
    "model.fit(x_train, y_train)\n",
    "\n",
    "print(model.feature_importances_)"
   ]
  },
  {
   "cell_type": "code",
   "execution_count": 403,
   "id": "c2f613ed",
   "metadata": {},
   "outputs": [
    {
     "data": {
      "image/png": "[encoded data removed]",
      "text/plain": [
       "<Figure size 640x480 with 1 Axes>"
      ]
     },
     "metadata": {},
     "output_type": "display_data"
    }
   ],
   "source": [
    "feat_importances = pd.Series(model.feature_importances_, index=x_train.columns)\n",
    "feat_importances.nlargest(9).plot(kind='barh')\n",
    "plt.show()"
   ]
  },
  {
   "cell_type": "code",
   "execution_count": 404,
   "id": "57e718b3",
   "metadata": {},
   "outputs": [
    {
     "name": "stdout",
     "output_type": "stream",
     "text": [
      "       is_tv_subscriber  is_movie_package_subscriber  subscription_age  \\\n",
      "28152               1.0                          1.0          5.110000   \n",
      "73447               1.0                          1.0          6.831665   \n",
      "58065               1.0                          0.0          1.640000   \n",
      "49900               1.0                          1.0          2.520000   \n",
      "19734               1.0                          0.0          0.280000   \n",
      "...                 ...                          ...               ...   \n",
      "21243               1.0                          1.0          0.850000   \n",
      "45891               1.0                          0.0          2.630000   \n",
      "42613               1.0                          0.0          2.980000   \n",
      "43567               1.0                          1.0          2.890000   \n",
      "68268               0.0                          0.0          0.260000   \n",
      "\n",
      "       bill_avg  reamining_contract  service_failure_count  download_avg  \\\n",
      "28152      24.0               0.904               0.000000     35.700000   \n",
      "73447      10.0               1.215               0.833326     10.233335   \n",
      "58065      13.0               0.340               0.000000     33.100000   \n",
      "49900      35.0               0.490               0.000000    100.100000   \n",
      "19734      20.0               0.354               0.000000      0.000000   \n",
      "...         ...                 ...                    ...           ...   \n",
      "21243      20.0               0.000               0.000000      0.000000   \n",
      "45891      25.0               0.330               0.000000     42.600000   \n",
      "42613      20.0               0.970               0.000000    127.600000   \n",
      "43567      24.0               0.990               0.000000    141.700000   \n",
      "68268      37.0               0.000               1.000000     99.300000   \n",
      "\n",
      "       upload_avg  download_over_limit  \n",
      "28152    1.600000                  0.0  \n",
      "73447    1.216663                  0.0  \n",
      "58065    3.300000                  0.0  \n",
      "49900    8.300000                  0.0  \n",
      "19734    0.000000                  0.0  \n",
      "...           ...                  ...  \n",
      "21243    0.000000                  0.0  \n",
      "45891    3.400000                  0.0  \n",
      "42613    7.900000                  0.0  \n",
      "43567   15.000000                  0.0  \n",
      "68268    7.900000                  0.0  \n",
      "\n",
      "[64080 rows x 9 columns]\n"
     ]
    }
   ],
   "source": [
    "print(x_train)"
   ]
  },
  {
   "cell_type": "code",
   "execution_count": 405,
   "id": "c340233b",
   "metadata": {},
   "outputs": [],
   "source": [
    "x_train = x_train.drop(['service_failure_count',  'download_over_limit'], \n",
    "             axis = 1)\n",
    "\n",
    "x_test = x_test.drop(['service_failure_count',  'download_over_limit'], \n",
    "             axis = 1)\n",
    "\n"
   ]
  },
  {
   "cell_type": "code",
   "execution_count": 406,
   "id": "ebed1572",
   "metadata": {},
   "outputs": [],
   "source": [
    "scaler = StandardScaler()\n",
    "\n",
    "scaler.fit(x_train)\n",
    "\n",
    "x_train_scaled = scaler.transform(x_train)\n",
    "x_test_scaled = scaler.transform(x_test)"
   ]
  },
  {
   "cell_type": "code",
   "execution_count": null,
   "id": "d6ce26ee",
   "metadata": {},
   "outputs": [],
   "source": []
  },
  {
   "cell_type": "markdown",
   "id": "65a5221f",
   "metadata": {},
   "source": [
    "# Decision Tree "
   ]
  },
  {
   "cell_type": "code",
   "execution_count": 407,
   "id": "febe9f85",
   "metadata": {},
   "outputs": [],
   "source": [
    "dt_model = DecisionTreeClassifier()\n",
    "dt_model.fit(x_train_scaled, y_train)\n",
    "y_pred_dt = dt_model.predict(x_test_scaled)"
   ]
  },
  {
   "cell_type": "code",
   "execution_count": 408,
   "id": "7449f184",
   "metadata": {},
   "outputs": [
    {
     "data": {
      "text/plain": [
       "0.8946317103620475"
      ]
     },
     "execution_count": 408,
     "metadata": {},
     "output_type": "execute_result"
    }
   ],
   "source": [
    "d_tree_acc = accuracy_score(y_true=y_test, y_pred= y_pred_dt)\n",
    "d_tree_acc"
   ]
  },
  {
   "cell_type": "code",
   "execution_count": 409,
   "id": "2f487a76",
   "metadata": {},
   "outputs": [
    {
     "data": {
      "text/plain": [
       "array([[7215,  849],\n",
       "       [ 839, 7117]], dtype=int64)"
      ]
     },
     "execution_count": 409,
     "metadata": {},
     "output_type": "execute_result"
    }
   ],
   "source": [
    "cm = confusion_matrix(y_test, y_pred_dt)\n",
    "cm"
   ]
  },
  {
   "cell_type": "code",
   "execution_count": 410,
   "id": "acdd2a73",
   "metadata": {},
   "outputs": [
    {
     "data": {
      "text/plain": [
       "(0.893422043685664, 0.894544997486174, 0.8939831679437257)"
      ]
     },
     "execution_count": 410,
     "metadata": {},
     "output_type": "execute_result"
    }
   ],
   "source": [
    "d_tree_pre = precision_score(y_test,y_pred_dt)\n",
    "d_tree_rec = recall_score(y_test, y_pred_dt)\n",
    "d_tree_f1 = f1_score(y_test, y_pred_dt)\n",
    "d_tree_pre,d_tree_rec,d_tree_f1                      "
   ]
  },
  {
   "cell_type": "markdown",
   "id": "c6837ee7",
   "metadata": {},
   "source": [
    "# SVM"
   ]
  },
  {
   "cell_type": "code",
   "execution_count": 411,
   "id": "b3b09226",
   "metadata": {},
   "outputs": [],
   "source": [
    "svm_model = SVC()\n",
    "svm_model.fit(x_train_scaled, y_train)\n",
    "y_pred_svm = svm_model.predict(x_test_scaled)"
   ]
  },
  {
   "cell_type": "code",
   "execution_count": 412,
   "id": "543ad4db",
   "metadata": {},
   "outputs": [
    {
     "data": {
      "text/plain": [
       "0.8747191011235955"
      ]
     },
     "execution_count": 412,
     "metadata": {},
     "output_type": "execute_result"
    }
   ],
   "source": [
    "svc_accuracy = accuracy_score(y_true=y_test, y_pred= y_pred_svm)\n",
    "svc_accuracy"
   ]
  },
  {
   "cell_type": "code",
   "execution_count": 413,
   "id": "da8adeb6",
   "metadata": {},
   "outputs": [
    {
     "data": {
      "text/plain": [
       "array([[7355,  709],\n",
       "       [1298, 6658]], dtype=int64)"
      ]
     },
     "execution_count": 413,
     "metadata": {},
     "output_type": "execute_result"
    }
   ],
   "source": [
    "cm = confusion_matrix(y_test, y_pred_svm)\n",
    "cm                                             "
   ]
  },
  {
   "cell_type": "code",
   "execution_count": 414,
   "id": "84bb2225",
   "metadata": {},
   "outputs": [
    {
     "data": {
      "text/plain": [
       "(0.9037600108592372, 0.8368526897938663, 0.8690204268093715)"
      ]
     },
     "execution_count": 414,
     "metadata": {},
     "output_type": "execute_result"
    }
   ],
   "source": [
    "svc_pre = precision_score(y_test,y_pred_svm)\n",
    "svc_rec = recall_score(y_test, y_pred_svm)\n",
    "svc_f1 = f1_score(y_test, y_pred_svm)\n",
    "svc_pre,svc_rec,svc_f1"
   ]
  },
  {
   "cell_type": "markdown",
   "id": "3e0a68d7",
   "metadata": {},
   "source": [
    "# Random Forest"
   ]
  },
  {
   "cell_type": "code",
   "execution_count": 415,
   "id": "208eb878",
   "metadata": {},
   "outputs": [],
   "source": [
    "rf_model = RandomForestClassifier()\n",
    "rf_model.fit(x_train_scaled, y_train)\n",
    "y_pred_rf = rf_model.predict(x_test_scaled)"
   ]
  },
  {
   "cell_type": "code",
   "execution_count": 416,
   "id": "bd498a66",
   "metadata": {},
   "outputs": [
    {
     "data": {
      "text/plain": [
       "0.9252184769038702"
      ]
     },
     "execution_count": 416,
     "metadata": {},
     "output_type": "execute_result"
    }
   ],
   "source": [
    "random_acc = accuracy_score(y_true=y_test, y_pred= y_pred_rf)\n",
    "random_acc"
   ]
  },
  {
   "cell_type": "code",
   "execution_count": 417,
   "id": "b88b51f8",
   "metadata": {},
   "outputs": [
    {
     "data": {
      "text/plain": [
       "array([[7678,  386],\n",
       "       [ 812, 7144]], dtype=int64)"
      ]
     },
     "execution_count": 417,
     "metadata": {},
     "output_type": "execute_result"
    }
   ],
   "source": [
    "cm = confusion_matrix(y_test, y_pred_rf)         \n",
    "cm"
   ]
  },
  {
   "cell_type": "code",
   "execution_count": 418,
   "id": "e15da3e3",
   "metadata": {},
   "outputs": [
    {
     "data": {
      "text/plain": [
       "(0.948738379814077, 0.897938662644545, 0.9226398036936588)"
      ]
     },
     "execution_count": 418,
     "metadata": {},
     "output_type": "execute_result"
    }
   ],
   "source": [
    "random_pre = precision_score(y_test,y_pred_rf)\n",
    "random_rec = recall_score(y_test, y_pred_rf)\n",
    "random_f1 = f1_score(y_test, y_pred_rf)\n",
    "random_pre,random_rec,random_f1"
   ]
  },
  {
   "cell_type": "markdown",
   "id": "a9dfd083",
   "metadata": {},
   "source": [
    "# Logistic Regression"
   ]
  },
  {
   "cell_type": "code",
   "execution_count": 419,
   "id": "9f7219e5",
   "metadata": {},
   "outputs": [],
   "source": [
    "lr_model = LogisticRegression()\n",
    "lr_model.fit(x_train_scaled, y_train)\n",
    "y_pred_lr = lr_model.predict(x_test_scaled)"
   ]
  },
  {
   "cell_type": "code",
   "execution_count": 420,
   "id": "49b779be",
   "metadata": {},
   "outputs": [
    {
     "data": {
      "text/plain": [
       "0.8435081148564295"
      ]
     },
     "execution_count": 420,
     "metadata": {},
     "output_type": "execute_result"
    }
   ],
   "source": [
    "log_accuracy = accuracy_score(y_true=y_test, y_pred= y_pred_lr)\n",
    "log_accuracy"
   ]
  },
  {
   "cell_type": "code",
   "execution_count": 421,
   "id": "bddaa8f5",
   "metadata": {},
   "outputs": [
    {
     "data": {
      "text/plain": [
       "array([[6671, 1393],\n",
       "       [1114, 6842]], dtype=int64)"
      ]
     },
     "execution_count": 421,
     "metadata": {},
     "output_type": "execute_result"
    }
   ],
   "source": [
    "cm = confusion_matrix(y_test, y_pred_lr)\n",
    "cm                                            "
   ]
  },
  {
   "cell_type": "code",
   "execution_count": 422,
   "id": "37ec9b97",
   "metadata": {},
   "outputs": [
    {
     "data": {
      "text/plain": [
       "(0.8435081148564295, 0.8599798893916542, 0.8451608918534989)"
      ]
     },
     "execution_count": 422,
     "metadata": {},
     "output_type": "execute_result"
    }
   ],
   "source": [
    "log_pre = precision_score(y_test,y_pred_lr)\n",
    "log_rec = recall_score(y_test, y_pred_lr)\n",
    "log_f1 = f1_score(y_test, y_pred_lr)\n",
    "log_accuracy,log_rec,log_f1"
   ]
  },
  {
   "cell_type": "code",
   "execution_count": 423,
   "id": "d6064929",
   "metadata": {},
   "outputs": [],
   "source": [
    "performance = {'Accuracy_Score':[d_tree_acc, svc_accuracy,random_acc,log_accuracy],\n",
    "              'Precision':[d_tree_pre, svc_pre,random_pre,log_pre],\n",
    "              'Recall': [d_tree_rec, svc_rec,random_rec,log_rec],\n",
    "              'f1_score':[d_tree_f1,svc_f1,random_f1,log_f1]}"
   ]
  },
  {
   "cell_type": "code",
   "execution_count": 424,
   "id": "21258bb3",
   "metadata": {},
   "outputs": [],
   "source": [
    "performance_df = pd.DataFrame(data = performance, index= ['DecisionTree','SVC','RandomForest','Logistic Regression'])"
   ]
  },
  {
   "cell_type": "code",
   "execution_count": 425,
   "id": "8518e9e9",
   "metadata": {},
   "outputs": [
    {
     "data": {
      "text/html": [
       "<div>\n",
       "<style scoped>\n",
       "    .dataframe tbody tr th:only-of-type {\n",
       "        vertical-align: middle;\n",
       "    }\n",
       "\n",
       "    .dataframe tbody tr th {\n",
       "        vertical-align: top;\n",
       "    }\n",
       "\n",
       "    .dataframe thead th {\n",
       "        text-align: right;\n",
       "    }\n",
       "</style>\n",
       "<table border=\"1\" class=\"dataframe\">\n",
       "  <thead>\n",
       "    <tr style=\"text-align: right;\">\n",
       "      <th></th>\n",
       "      <th>Accuracy_Score</th>\n",
       "      <th>Precision</th>\n",
       "      <th>Recall</th>\n",
       "      <th>f1_score</th>\n",
       "    </tr>\n",
       "  </thead>\n",
       "  <tbody>\n",
       "    <tr>\n",
       "      <th>DecisionTree</th>\n",
       "      <td>0.894632</td>\n",
       "      <td>0.893422</td>\n",
       "      <td>0.894545</td>\n",
       "      <td>0.893983</td>\n",
       "    </tr>\n",
       "    <tr>\n",
       "      <th>SVC</th>\n",
       "      <td>0.874719</td>\n",
       "      <td>0.903760</td>\n",
       "      <td>0.836853</td>\n",
       "      <td>0.869020</td>\n",
       "    </tr>\n",
       "    <tr>\n",
       "      <th>RandomForest</th>\n",
       "      <td>0.925218</td>\n",
       "      <td>0.948738</td>\n",
       "      <td>0.897939</td>\n",
       "      <td>0.922640</td>\n",
       "    </tr>\n",
       "    <tr>\n",
       "      <th>Logistic Regression</th>\n",
       "      <td>0.843508</td>\n",
       "      <td>0.830844</td>\n",
       "      <td>0.859980</td>\n",
       "      <td>0.845161</td>\n",
       "    </tr>\n",
       "  </tbody>\n",
       "</table>\n",
       "</div>"
      ],
      "text/plain": [
       "                     Accuracy_Score  Precision    Recall  f1_score\n",
       "DecisionTree               0.894632   0.893422  0.894545  0.893983\n",
       "SVC                        0.874719   0.903760  0.836853  0.869020\n",
       "RandomForest               0.925218   0.948738  0.897939  0.922640\n",
       "Logistic Regression        0.843508   0.830844  0.859980  0.845161"
      ]
     },
     "execution_count": 425,
     "metadata": {},
     "output_type": "execute_result"
    }
   ],
   "source": [
    "performance_df"
   ]
  },
  {
   "cell_type": "code",
   "execution_count": 428,
   "id": "20943e55",
   "metadata": {},
   "outputs": [
    {
     "data": {
      "text/plain": [
       "Text(0, 0.5, 'Metrics')"
      ]
     },
     "execution_count": 428,
     "metadata": {},
     "output_type": "execute_result"
    },
    {
     "data": {
      "image/png": "[encoded data removed]",
      "text/plain": [
       "<Figure size 600x400 with 1 Axes>"
      ]
     },
     "metadata": {},
     "output_type": "display_data"
    }
   ],
   "source": [
    "performance_df.plot(kind=\"bar\", figsize=(6, 4))\n",
    "plt.title('Models vs (Accuracy_Score, Precision, Recall, f1_score)', fontdict={'weight': 'bold', 'size': 16})\n",
    "plt.xlabel('Models', fontdict={'size': 14})\n",
    "plt.ylabel('Metrics', fontdict={'size': 14, 'weight': 'bold'})"
   ]
  },
  {
   "cell_type": "code",
   "execution_count": null,
   "id": "ad3a9d01",
   "metadata": {},
   "outputs": [],
   "source": []
  },
  {
   "cell_type": "code",
   "execution_count": null,
   "id": "fa169008",
   "metadata": {},
   "outputs": [],
   "source": []
  }
 ],
 "metadata": {
  "kernelspec": {
   "display_name": "Python 3 (ipykernel)",
   "language": "python",
   "name": "python3"
  },
  "language_info": {
   "codemirror_mode": {
    "name": "ipython",
    "version": 3
   },
   "file_extension": ".py",
   "mimetype": "text/x-python",
   "name": "python",
   "nbconvert_exporter": "python",
   "pygments_lexer": "ipython3",
   "version": "3.9.13"
  }
 },
 "nbformat": 4,
 "nbformat_minor": 5
}
